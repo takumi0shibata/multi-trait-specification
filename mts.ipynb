{
 "cells": [
  {
   "cell_type": "code",
   "execution_count": 30,
   "metadata": {},
   "outputs": [],
   "source": [
    "import os\n",
    "import re\n",
    "import torch\n",
    "import transformers\n",
    "from tqdm import tqdm\n",
    "import json\n",
    "import numpy as np\n",
    "from sklearn.metrics import cohen_kappa_score\n",
    "from typing import Optional, Literal\n",
    "from utils import load_asap_dataset, load_toefl_dataset, get_score_range\n",
    "from transformers import AutoTokenizer, AutoModelForCausalLM, GenerationConfig"
   ]
  },
  {
   "cell_type": "code",
   "execution_count": 74,
   "metadata": {},
   "outputs": [
    {
     "data": {
      "text/html": [
       "<div><style>\n",
       ".dataframe > thead > tr,\n",
       ".dataframe > tbody > tr {\n",
       "  text-align: right;\n",
       "  white-space: pre-wrap;\n",
       "}\n",
       "</style>\n",
       "<small>shape: (1_099, 5)</small><table border=\"1\" class=\"dataframe\"><thead><tr><th>essay_id</th><th>essay_set</th><th>original_score</th><th>essay</th><th>score</th></tr><tr><td>i64</td><td>i64</td><td>str</td><td>str</td><td>i32</td></tr></thead><tbody><tr><td>10229</td><td>8</td><td>&quot;low&quot;</td><td>&quot;I DO NOT AGREE WITH THIS STATE…</td><td>0</td></tr><tr><td>10392</td><td>1</td><td>&quot;high&quot;</td><td>&quot;I am not quite sure about my o…</td><td>2</td></tr><tr><td>10445</td><td>3</td><td>&quot;medium&quot;</td><td>&quot;It is often said that young pe…</td><td>1</td></tr><tr><td>10535</td><td>7</td><td>&quot;medium&quot;</td><td>&quot;In mordern society, students a…</td><td>1</td></tr><tr><td>10769</td><td>1</td><td>&quot;high&quot;</td><td>&quot;I find it productive and rewar…</td><td>2</td></tr><tr><td>&hellip;</td><td>&hellip;</td><td>&hellip;</td><td>&hellip;</td><td>&hellip;</td></tr><tr><td>1175383</td><td>2</td><td>&quot;medium&quot;</td><td>&quot;&nbsp;&nbsp;There are heated disscussion…</td><td>1</td></tr><tr><td>1175412</td><td>3</td><td>&quot;high&quot;</td><td>&quot;In my personal opinion young p…</td><td>2</td></tr><tr><td>1175488</td><td>8</td><td>&quot;medium&quot;</td><td>&quot;I believe that people who take…</td><td>1</td></tr><tr><td>1175980</td><td>8</td><td>&quot;low&quot;</td><td>&quot;With the rapid progress of tim…</td><td>0</td></tr><tr><td>1176184</td><td>8</td><td>&quot;medium&quot;</td><td>&quot;Taking risks and trying new th…</td><td>1</td></tr></tbody></table></div>"
      ],
      "text/plain": [
       "shape: (1_099, 5)\n",
       "┌──────────┬───────────┬────────────────┬─────────────────────────────────┬───────┐\n",
       "│ essay_id ┆ essay_set ┆ original_score ┆ essay                           ┆ score │\n",
       "│ ---      ┆ ---       ┆ ---            ┆ ---                             ┆ ---   │\n",
       "│ i64      ┆ i64       ┆ str            ┆ str                             ┆ i32   │\n",
       "╞══════════╪═══════════╪════════════════╪═════════════════════════════════╪═══════╡\n",
       "│ 10229    ┆ 8         ┆ low            ┆ I DO NOT AGREE WITH THIS STATE… ┆ 0     │\n",
       "│ 10392    ┆ 1         ┆ high           ┆ I am not quite sure about my o… ┆ 2     │\n",
       "│ 10445    ┆ 3         ┆ medium         ┆ It is often said that young pe… ┆ 1     │\n",
       "│ 10535    ┆ 7         ┆ medium         ┆ In mordern society, students a… ┆ 1     │\n",
       "│ 10769    ┆ 1         ┆ high           ┆ I find it productive and rewar… ┆ 2     │\n",
       "│ …        ┆ …         ┆ …              ┆ …                               ┆ …     │\n",
       "│ 1175383  ┆ 2         ┆ medium         ┆   There are heated disscussion… ┆ 1     │\n",
       "│ 1175412  ┆ 3         ┆ high           ┆ In my personal opinion young p… ┆ 2     │\n",
       "│ 1175488  ┆ 8         ┆ medium         ┆ I believe that people who take… ┆ 1     │\n",
       "│ 1175980  ┆ 8         ┆ low            ┆ With the rapid progress of tim… ┆ 0     │\n",
       "│ 1176184  ┆ 8         ┆ medium         ┆ Taking risks and trying new th… ┆ 1     │\n",
       "└──────────┴───────────┴────────────────┴─────────────────────────────────┴───────┘"
      ]
     },
     "execution_count": 74,
     "metadata": {},
     "output_type": "execute_result"
    }
   ],
   "source": [
    "# DATASET = 'ASAP'\n",
    "DATASET = 'TOEFL11'\n",
    "\n",
    "# MODEL = \"meta-llama/Llama-2-7b-chat-hf\"\n",
    "# MODEL = \"meta-llama/Llama-3.1-8B-Instruct\"\n",
    "MODEL = \"meta-llama/Llama-3.2-3B-Instruct\"\n",
    "# MODEL = \"mistralai/Mistral-7B-Instruct-v0.2\"\n",
    "\n",
    "if DATASET == 'ASAP':\n",
    "    df = load_asap_dataset('datasets/ASAP')\n",
    "elif DATASET == 'TOEFL11':\n",
    "    df = load_toefl_dataset('datasets/TOEFL11')\n",
    "df"
   ]
  },
  {
   "cell_type": "code",
   "execution_count": 75,
   "metadata": {},
   "outputs": [
    {
     "data": {
      "text/html": [
       "<div><style>\n",
       ".dataframe > thead > tr,\n",
       ".dataframe > tbody > tr {\n",
       "  text-align: right;\n",
       "  white-space: pre-wrap;\n",
       "}\n",
       "</style>\n",
       "<small>shape: (1_099, 4)</small><table border=\"1\" class=\"dataframe\"><thead><tr><th>0</th><th>1</th><th>2</th><th>3</th></tr><tr><td>i64</td><td>i64</td><td>i64</td><td>i64</td></tr></thead><tbody><tr><td>1</td><td>2</td><td>2</td><td>2</td></tr><tr><td>4</td><td>6</td><td>5</td><td>5</td></tr><tr><td>8</td><td>6</td><td>7</td><td>7</td></tr><tr><td>4</td><td>3</td><td>5</td><td>4</td></tr><tr><td>7</td><td>6</td><td>7</td><td>7</td></tr><tr><td>&hellip;</td><td>&hellip;</td><td>&hellip;</td><td>&hellip;</td></tr><tr><td>4</td><td>5</td><td>4</td><td>4</td></tr><tr><td>5</td><td>6</td><td>5</td><td>5</td></tr><tr><td>4</td><td>3</td><td>4</td><td>4</td></tr><tr><td>4</td><td>4</td><td>3</td><td>3</td></tr><tr><td>8</td><td>7</td><td>7</td><td>7</td></tr></tbody></table></div>"
      ],
      "text/plain": [
       "shape: (1_099, 4)\n",
       "┌─────┬─────┬─────┬─────┐\n",
       "│ 0   ┆ 1   ┆ 2   ┆ 3   │\n",
       "│ --- ┆ --- ┆ --- ┆ --- │\n",
       "│ i64 ┆ i64 ┆ i64 ┆ i64 │\n",
       "╞═════╪═════╪═════╪═════╡\n",
       "│ 1   ┆ 2   ┆ 2   ┆ 2   │\n",
       "│ 4   ┆ 6   ┆ 5   ┆ 5   │\n",
       "│ 8   ┆ 6   ┆ 7   ┆ 7   │\n",
       "│ 4   ┆ 3   ┆ 5   ┆ 4   │\n",
       "│ 7   ┆ 6   ┆ 7   ┆ 7   │\n",
       "│ …   ┆ …   ┆ …   ┆ …   │\n",
       "│ 4   ┆ 5   ┆ 4   ┆ 4   │\n",
       "│ 5   ┆ 6   ┆ 5   ┆ 5   │\n",
       "│ 4   ┆ 3   ┆ 4   ┆ 4   │\n",
       "│ 4   ┆ 4   ┆ 3   ┆ 3   │\n",
       "│ 8   ┆ 7   ┆ 7   ┆ 7   │\n",
       "└─────┴─────┴─────┴─────┘"
      ]
     },
     "execution_count": 75,
     "metadata": {},
     "output_type": "execute_result"
    }
   ],
   "source": [
    "import polars as pl\n",
    "results = pl.read_csv(f\"outputs/mts/{DATASET}_{MODEL.split('/')[1]}.csv\")\n",
    "results[['0', '1', '2', '3']]"
   ]
  },
  {
   "cell_type": "code",
   "execution_count": 76,
   "metadata": {},
   "outputs": [],
   "source": [
    "def drop_rows_with_negative_one(df):\n",
    "    \"\"\"\n",
    "    Polarsデータフレームから-1を含む行を削除する関数\n",
    "    \n",
    "    Parameters:\n",
    "    -----------\n",
    "    df : pl.DataFrame\n",
    "        入力データフレーム\n",
    "    \n",
    "    Returns:\n",
    "    --------\n",
    "    pl.DataFrame\n",
    "        -1を含む行が削除されたデータフレーム\n",
    "    \"\"\"\n",
    "    # 各列について-1かどうかをチェックし、行ごとにいずれかの列が-1の場合にTrueとなるマスクを作成\n",
    "    mask = df.select(\n",
    "        pl.fold(\n",
    "            False,\n",
    "            lambda acc, x: acc | (x == -1),\n",
    "            pl.all().exclude([])\n",
    "        )\n",
    "    ).to_series()\n",
    "    \n",
    "    # マスクの否定を使用して-1を含まない行だけを残す\n",
    "    return df.filter(~mask)"
   ]
  },
  {
   "cell_type": "code",
   "execution_count": 77,
   "metadata": {},
   "outputs": [
    {
     "data": {
      "text/html": [
       "<div><style>\n",
       ".dataframe > thead > tr,\n",
       ".dataframe > tbody > tr {\n",
       "  text-align: right;\n",
       "  white-space: pre-wrap;\n",
       "}\n",
       "</style>\n",
       "<small>shape: (1_099, 9)</small><table border=\"1\" class=\"dataframe\"><thead><tr><th>essay_id</th><th>essay_set</th><th>original_score</th><th>essay</th><th>score</th><th>0</th><th>1</th><th>2</th><th>3</th></tr><tr><td>i64</td><td>i64</td><td>str</td><td>str</td><td>i32</td><td>i64</td><td>i64</td><td>i64</td><td>i64</td></tr></thead><tbody><tr><td>10229</td><td>8</td><td>&quot;low&quot;</td><td>&quot;I DO NOT AGREE WITH THIS STATE…</td><td>0</td><td>1</td><td>2</td><td>2</td><td>2</td></tr><tr><td>10392</td><td>1</td><td>&quot;high&quot;</td><td>&quot;I am not quite sure about my o…</td><td>2</td><td>4</td><td>6</td><td>5</td><td>5</td></tr><tr><td>10445</td><td>3</td><td>&quot;medium&quot;</td><td>&quot;It is often said that young pe…</td><td>1</td><td>8</td><td>6</td><td>7</td><td>7</td></tr><tr><td>10535</td><td>7</td><td>&quot;medium&quot;</td><td>&quot;In mordern society, students a…</td><td>1</td><td>4</td><td>3</td><td>5</td><td>4</td></tr><tr><td>10769</td><td>1</td><td>&quot;high&quot;</td><td>&quot;I find it productive and rewar…</td><td>2</td><td>7</td><td>6</td><td>7</td><td>7</td></tr><tr><td>&hellip;</td><td>&hellip;</td><td>&hellip;</td><td>&hellip;</td><td>&hellip;</td><td>&hellip;</td><td>&hellip;</td><td>&hellip;</td><td>&hellip;</td></tr><tr><td>1175383</td><td>2</td><td>&quot;medium&quot;</td><td>&quot;&nbsp;&nbsp;There are heated disscussion…</td><td>1</td><td>4</td><td>5</td><td>4</td><td>4</td></tr><tr><td>1175412</td><td>3</td><td>&quot;high&quot;</td><td>&quot;In my personal opinion young p…</td><td>2</td><td>5</td><td>6</td><td>5</td><td>5</td></tr><tr><td>1175488</td><td>8</td><td>&quot;medium&quot;</td><td>&quot;I believe that people who take…</td><td>1</td><td>4</td><td>3</td><td>4</td><td>4</td></tr><tr><td>1175980</td><td>8</td><td>&quot;low&quot;</td><td>&quot;With the rapid progress of tim…</td><td>0</td><td>4</td><td>4</td><td>3</td><td>3</td></tr><tr><td>1176184</td><td>8</td><td>&quot;medium&quot;</td><td>&quot;Taking risks and trying new th…</td><td>1</td><td>8</td><td>7</td><td>7</td><td>7</td></tr></tbody></table></div>"
      ],
      "text/plain": [
       "shape: (1_099, 9)\n",
       "┌──────────┬───────────┬────────────────┬──────────────────────────────┬───┬─────┬─────┬─────┬─────┐\n",
       "│ essay_id ┆ essay_set ┆ original_score ┆ essay                        ┆ … ┆ 0   ┆ 1   ┆ 2   ┆ 3   │\n",
       "│ ---      ┆ ---       ┆ ---            ┆ ---                          ┆   ┆ --- ┆ --- ┆ --- ┆ --- │\n",
       "│ i64      ┆ i64       ┆ str            ┆ str                          ┆   ┆ i64 ┆ i64 ┆ i64 ┆ i64 │\n",
       "╞══════════╪═══════════╪════════════════╪══════════════════════════════╪═══╪═════╪═════╪═════╪═════╡\n",
       "│ 10229    ┆ 8         ┆ low            ┆ I DO NOT AGREE WITH THIS     ┆ … ┆ 1   ┆ 2   ┆ 2   ┆ 2   │\n",
       "│          ┆           ┆                ┆ STATE…                       ┆   ┆     ┆     ┆     ┆     │\n",
       "│ 10392    ┆ 1         ┆ high           ┆ I am not quite sure about my ┆ … ┆ 4   ┆ 6   ┆ 5   ┆ 5   │\n",
       "│          ┆           ┆                ┆ o…                           ┆   ┆     ┆     ┆     ┆     │\n",
       "│ 10445    ┆ 3         ┆ medium         ┆ It is often said that young  ┆ … ┆ 8   ┆ 6   ┆ 7   ┆ 7   │\n",
       "│          ┆           ┆                ┆ pe…                          ┆   ┆     ┆     ┆     ┆     │\n",
       "│ 10535    ┆ 7         ┆ medium         ┆ In mordern society, students ┆ … ┆ 4   ┆ 3   ┆ 5   ┆ 4   │\n",
       "│          ┆           ┆                ┆ a…                           ┆   ┆     ┆     ┆     ┆     │\n",
       "│ 10769    ┆ 1         ┆ high           ┆ I find it productive and     ┆ … ┆ 7   ┆ 6   ┆ 7   ┆ 7   │\n",
       "│          ┆           ┆                ┆ rewar…                       ┆   ┆     ┆     ┆     ┆     │\n",
       "│ …        ┆ …         ┆ …              ┆ …                            ┆ … ┆ …   ┆ …   ┆ …   ┆ …   │\n",
       "│ 1175383  ┆ 2         ┆ medium         ┆ There are heated             ┆ … ┆ 4   ┆ 5   ┆ 4   ┆ 4   │\n",
       "│          ┆           ┆                ┆ disscussion…                 ┆   ┆     ┆     ┆     ┆     │\n",
       "│ 1175412  ┆ 3         ┆ high           ┆ In my personal opinion young ┆ … ┆ 5   ┆ 6   ┆ 5   ┆ 5   │\n",
       "│          ┆           ┆                ┆ p…                           ┆   ┆     ┆     ┆     ┆     │\n",
       "│ 1175488  ┆ 8         ┆ medium         ┆ I believe that people who    ┆ … ┆ 4   ┆ 3   ┆ 4   ┆ 4   │\n",
       "│          ┆           ┆                ┆ take…                        ┆   ┆     ┆     ┆     ┆     │\n",
       "│ 1175980  ┆ 8         ┆ low            ┆ With the rapid progress of   ┆ … ┆ 4   ┆ 4   ┆ 3   ┆ 3   │\n",
       "│          ┆           ┆                ┆ tim…                         ┆   ┆     ┆     ┆     ┆     │\n",
       "│ 1176184  ┆ 8         ┆ medium         ┆ Taking risks and trying new  ┆ … ┆ 8   ┆ 7   ┆ 7   ┆ 7   │\n",
       "│          ┆           ┆                ┆ th…                          ┆   ┆     ┆     ┆     ┆     │\n",
       "└──────────┴───────────┴────────────────┴──────────────────────────────┴───┴─────┴─────┴─────┴─────┘"
      ]
     },
     "execution_count": 77,
     "metadata": {},
     "output_type": "execute_result"
    }
   ],
   "source": [
    "final = pl.concat([df, results[['0', '1', '2', '3']]], how='horizontal')\n",
    "final = drop_rows_with_negative_one(final)\n",
    "final"
   ]
  },
  {
   "cell_type": "code",
   "execution_count": 78,
   "metadata": {},
   "outputs": [
    {
     "data": {
      "text/html": [
       "<div><style>\n",
       ".dataframe > thead > tr,\n",
       ".dataframe > tbody > tr {\n",
       "  text-align: right;\n",
       "  white-space: pre-wrap;\n",
       "}\n",
       "</style>\n",
       "<small>shape: (9, 10)</small><table border=\"1\" class=\"dataframe\"><thead><tr><th>statistic</th><th>essay_id</th><th>essay_set</th><th>original_score</th><th>essay</th><th>score</th><th>0</th><th>1</th><th>2</th><th>3</th></tr><tr><td>str</td><td>f64</td><td>f64</td><td>str</td><td>str</td><td>f64</td><td>f64</td><td>f64</td><td>f64</td><td>f64</td></tr></thead><tbody><tr><td>&quot;count&quot;</td><td>1099.0</td><td>1099.0</td><td>&quot;1099&quot;</td><td>&quot;1099&quot;</td><td>1099.0</td><td>1099.0</td><td>1099.0</td><td>1099.0</td><td>1099.0</td></tr><tr><td>&quot;null_count&quot;</td><td>0.0</td><td>0.0</td><td>&quot;0&quot;</td><td>&quot;0&quot;</td><td>0.0</td><td>0.0</td><td>0.0</td><td>0.0</td><td>0.0</td></tr><tr><td>&quot;mean&quot;</td><td>985185.592357</td><td>4.484986</td><td>null</td><td>null</td><td>1.21747</td><td>4.508644</td><td>4.399454</td><td>4.514104</td><td>4.301183</td></tr><tr><td>&quot;std&quot;</td><td>307937.154371</td><td>2.325612</td><td>null</td><td>null</td><td>0.635203</td><td>1.414429</td><td>1.201714</td><td>1.198257</td><td>1.191694</td></tr><tr><td>&quot;min&quot;</td><td>10229.0</td><td>1.0</td><td>&quot;high&quot;</td><td>&quot;\t&quot;Jack of all trades, master o…</td><td>0.0</td><td>1.0</td><td>1.0</td><td>2.0</td><td>2.0</td></tr><tr><td>&quot;25%&quot;</td><td>1.0308e6</td><td>2.0</td><td>null</td><td>null</td><td>1.0</td><td>4.0</td><td>4.0</td><td>4.0</td><td>3.0</td></tr><tr><td>&quot;50%&quot;</td><td>1.080962e6</td><td>4.0</td><td>null</td><td>null</td><td>1.0</td><td>4.0</td><td>4.0</td><td>5.0</td><td>4.0</td></tr><tr><td>&quot;75%&quot;</td><td>1.1272e6</td><td>7.0</td><td>null</td><td>null</td><td>2.0</td><td>6.0</td><td>5.0</td><td>5.0</td><td>5.0</td></tr><tr><td>&quot;max&quot;</td><td>1.176184e6</td><td>8.0</td><td>&quot;medium&quot;</td><td>&quot;young peolple enjoy life more …</td><td>2.0</td><td>8.0</td><td>8.0</td><td>8.0</td><td>8.0</td></tr></tbody></table></div>"
      ],
      "text/plain": [
       "shape: (9, 10)\n",
       "┌────────────┬────────────┬───────────┬────────────┬───┬──────────┬──────────┬──────────┬──────────┐\n",
       "│ statistic  ┆ essay_id   ┆ essay_set ┆ original_s ┆ … ┆ 0        ┆ 1        ┆ 2        ┆ 3        │\n",
       "│ ---        ┆ ---        ┆ ---       ┆ core       ┆   ┆ ---      ┆ ---      ┆ ---      ┆ ---      │\n",
       "│ str        ┆ f64        ┆ f64       ┆ ---        ┆   ┆ f64      ┆ f64      ┆ f64      ┆ f64      │\n",
       "│            ┆            ┆           ┆ str        ┆   ┆          ┆          ┆          ┆          │\n",
       "╞════════════╪════════════╪═══════════╪════════════╪═══╪══════════╪══════════╪══════════╪══════════╡\n",
       "│ count      ┆ 1099.0     ┆ 1099.0    ┆ 1099       ┆ … ┆ 1099.0   ┆ 1099.0   ┆ 1099.0   ┆ 1099.0   │\n",
       "│ null_count ┆ 0.0        ┆ 0.0       ┆ 0          ┆ … ┆ 0.0      ┆ 0.0      ┆ 0.0      ┆ 0.0      │\n",
       "│ mean       ┆ 985185.592 ┆ 4.484986  ┆ null       ┆ … ┆ 4.508644 ┆ 4.399454 ┆ 4.514104 ┆ 4.301183 │\n",
       "│            ┆ 357        ┆           ┆            ┆   ┆          ┆          ┆          ┆          │\n",
       "│ std        ┆ 307937.154 ┆ 2.325612  ┆ null       ┆ … ┆ 1.414429 ┆ 1.201714 ┆ 1.198257 ┆ 1.191694 │\n",
       "│            ┆ 371        ┆           ┆            ┆   ┆          ┆          ┆          ┆          │\n",
       "│ min        ┆ 10229.0    ┆ 1.0       ┆ high       ┆ … ┆ 1.0      ┆ 1.0      ┆ 2.0      ┆ 2.0      │\n",
       "│ 25%        ┆ 1.0308e6   ┆ 2.0       ┆ null       ┆ … ┆ 4.0      ┆ 4.0      ┆ 4.0      ┆ 3.0      │\n",
       "│ 50%        ┆ 1.080962e6 ┆ 4.0       ┆ null       ┆ … ┆ 4.0      ┆ 4.0      ┆ 5.0      ┆ 4.0      │\n",
       "│ 75%        ┆ 1.1272e6   ┆ 7.0       ┆ null       ┆ … ┆ 6.0      ┆ 5.0      ┆ 5.0      ┆ 5.0      │\n",
       "│ max        ┆ 1.176184e6 ┆ 8.0       ┆ medium     ┆ … ┆ 8.0      ┆ 8.0      ┆ 8.0      ┆ 8.0      │\n",
       "└────────────┴────────────┴───────────┴────────────┴───┴──────────┴──────────┴──────────┴──────────┘"
      ]
     },
     "execution_count": 78,
     "metadata": {},
     "output_type": "execute_result"
    }
   ],
   "source": [
    "final.describe()"
   ]
  },
  {
   "cell_type": "code",
   "execution_count": 79,
   "metadata": {},
   "outputs": [
    {
     "data": {
      "text/html": [
       "<div><style>\n",
       ".dataframe > thead > tr,\n",
       ".dataframe > tbody > tr {\n",
       "  text-align: right;\n",
       "  white-space: pre-wrap;\n",
       "}\n",
       "</style>\n",
       "<small>shape: (1_099, 11)</small><table border=\"1\" class=\"dataframe\"><thead><tr><th>essay_id</th><th>essay_set</th><th>original_score</th><th>essay</th><th>score</th><th>0</th><th>1</th><th>2</th><th>3</th><th>trait_avg</th><th>trait_avg_agg</th></tr><tr><td>i64</td><td>i64</td><td>str</td><td>str</td><td>i32</td><td>i64</td><td>i64</td><td>i64</td><td>i64</td><td>f64</td><td>f64</td></tr></thead><tbody><tr><td>11644</td><td>6</td><td>&quot;medium&quot;</td><td>&quot;I agree with this statement. B…</td><td>1</td><td>4</td><td>4</td><td>4</td><td>4</td><td>4.0</td><td>4.0</td></tr><tr><td>104344</td><td>6</td><td>&quot;medium&quot;</td><td>&quot;Some people agree with the sta…</td><td>1</td><td>5</td><td>4</td><td>4</td><td>5</td><td>4.5</td><td>4.5</td></tr><tr><td>104726</td><td>6</td><td>&quot;high&quot;</td><td>&quot;The answer to this question de…</td><td>2</td><td>5</td><td>4</td><td>5</td><td>4</td><td>4.5</td><td>4.5</td></tr><tr><td>105677</td><td>6</td><td>&quot;low&quot;</td><td>&quot;I disagree with this statement…</td><td>0</td><td>4</td><td>4</td><td>4</td><td>5</td><td>4.25</td><td>4.25</td></tr><tr><td>105815</td><td>6</td><td>&quot;medium&quot;</td><td>&quot;Last summer, my wife and I wer…</td><td>1</td><td>6</td><td>6</td><td>5</td><td>5</td><td>5.5</td><td>5.5</td></tr><tr><td>&hellip;</td><td>&hellip;</td><td>&hellip;</td><td>&hellip;</td><td>&hellip;</td><td>&hellip;</td><td>&hellip;</td><td>&hellip;</td><td>&hellip;</td><td>&hellip;</td><td>&hellip;</td></tr><tr><td>1164179</td><td>2</td><td>&quot;medium&quot;</td><td>&quot;This is a very hard discussed …</td><td>1</td><td>4</td><td>5</td><td>5</td><td>4</td><td>4.5</td><td>4.5</td></tr><tr><td>1165738</td><td>2</td><td>&quot;medium&quot;</td><td>&quot;Since World war 2 was ended, Y…</td><td>1</td><td>2</td><td>3</td><td>3</td><td>3</td><td>2.75</td><td>2.75</td></tr><tr><td>1172289</td><td>2</td><td>&quot;medium&quot;</td><td>&quot;There are a lot of reasons and…</td><td>1</td><td>4</td><td>5</td><td>4</td><td>4</td><td>4.25</td><td>4.25</td></tr><tr><td>1172944</td><td>2</td><td>&quot;medium&quot;</td><td>&quot;Responsiblity plays a big role…</td><td>1</td><td>4</td><td>4</td><td>4</td><td>3</td><td>3.75</td><td>3.75</td></tr><tr><td>1175383</td><td>2</td><td>&quot;medium&quot;</td><td>&quot;&nbsp;&nbsp;There are heated disscussion…</td><td>1</td><td>4</td><td>5</td><td>4</td><td>4</td><td>4.25</td><td>4.25</td></tr></tbody></table></div>"
      ],
      "text/plain": [
       "shape: (1_099, 11)\n",
       "┌──────────┬───────────┬───────────────┬───────────────┬───┬─────┬─────┬───────────┬───────────────┐\n",
       "│ essay_id ┆ essay_set ┆ original_scor ┆ essay         ┆ … ┆ 2   ┆ 3   ┆ trait_avg ┆ trait_avg_agg │\n",
       "│ ---      ┆ ---       ┆ e             ┆ ---           ┆   ┆ --- ┆ --- ┆ ---       ┆ ---           │\n",
       "│ i64      ┆ i64       ┆ ---           ┆ str           ┆   ┆ i64 ┆ i64 ┆ f64       ┆ f64           │\n",
       "│          ┆           ┆ str           ┆               ┆   ┆     ┆     ┆           ┆               │\n",
       "╞══════════╪═══════════╪═══════════════╪═══════════════╪═══╪═════╪═════╪═══════════╪═══════════════╡\n",
       "│ 11644    ┆ 6         ┆ medium        ┆ I agree with  ┆ … ┆ 4   ┆ 4   ┆ 4.0       ┆ 4.0           │\n",
       "│          ┆           ┆               ┆ this          ┆   ┆     ┆     ┆           ┆               │\n",
       "│          ┆           ┆               ┆ statement. B… ┆   ┆     ┆     ┆           ┆               │\n",
       "│ 104344   ┆ 6         ┆ medium        ┆ Some people   ┆ … ┆ 4   ┆ 5   ┆ 4.5       ┆ 4.5           │\n",
       "│          ┆           ┆               ┆ agree with    ┆   ┆     ┆     ┆           ┆               │\n",
       "│          ┆           ┆               ┆ the sta…      ┆   ┆     ┆     ┆           ┆               │\n",
       "│ 104726   ┆ 6         ┆ high          ┆ The answer to ┆ … ┆ 5   ┆ 4   ┆ 4.5       ┆ 4.5           │\n",
       "│          ┆           ┆               ┆ this question ┆   ┆     ┆     ┆           ┆               │\n",
       "│          ┆           ┆               ┆ de…           ┆   ┆     ┆     ┆           ┆               │\n",
       "│ 105677   ┆ 6         ┆ low           ┆ I disagree    ┆ … ┆ 4   ┆ 5   ┆ 4.25      ┆ 4.25          │\n",
       "│          ┆           ┆               ┆ with this     ┆   ┆     ┆     ┆           ┆               │\n",
       "│          ┆           ┆               ┆ statement…    ┆   ┆     ┆     ┆           ┆               │\n",
       "│ 105815   ┆ 6         ┆ medium        ┆ Last summer,  ┆ … ┆ 5   ┆ 5   ┆ 5.5       ┆ 5.5           │\n",
       "│          ┆           ┆               ┆ my wife and I ┆   ┆     ┆     ┆           ┆               │\n",
       "│          ┆           ┆               ┆ wer…          ┆   ┆     ┆     ┆           ┆               │\n",
       "│ …        ┆ …         ┆ …             ┆ …             ┆ … ┆ …   ┆ …   ┆ …         ┆ …             │\n",
       "│ 1164179  ┆ 2         ┆ medium        ┆ This is a     ┆ … ┆ 5   ┆ 4   ┆ 4.5       ┆ 4.5           │\n",
       "│          ┆           ┆               ┆ very hard     ┆   ┆     ┆     ┆           ┆               │\n",
       "│          ┆           ┆               ┆ discussed …   ┆   ┆     ┆     ┆           ┆               │\n",
       "│ 1165738  ┆ 2         ┆ medium        ┆ Since World   ┆ … ┆ 3   ┆ 3   ┆ 2.75      ┆ 2.75          │\n",
       "│          ┆           ┆               ┆ war 2 was     ┆   ┆     ┆     ┆           ┆               │\n",
       "│          ┆           ┆               ┆ ended, Y…     ┆   ┆     ┆     ┆           ┆               │\n",
       "│ 1172289  ┆ 2         ┆ medium        ┆ There are a   ┆ … ┆ 4   ┆ 4   ┆ 4.25      ┆ 4.25          │\n",
       "│          ┆           ┆               ┆ lot of        ┆   ┆     ┆     ┆           ┆               │\n",
       "│          ┆           ┆               ┆ reasons and…  ┆   ┆     ┆     ┆           ┆               │\n",
       "│ 1172944  ┆ 2         ┆ medium        ┆ Responsiblity ┆ … ┆ 4   ┆ 3   ┆ 3.75      ┆ 3.75          │\n",
       "│          ┆           ┆               ┆ plays a big   ┆   ┆     ┆     ┆           ┆               │\n",
       "│          ┆           ┆               ┆ role…         ┆   ┆     ┆     ┆           ┆               │\n",
       "│ 1175383  ┆ 2         ┆ medium        ┆ There are     ┆ … ┆ 4   ┆ 4   ┆ 4.25      ┆ 4.25          │\n",
       "│          ┆           ┆               ┆ heated        ┆   ┆     ┆     ┆           ┆               │\n",
       "│          ┆           ┆               ┆ disscussion…  ┆   ┆     ┆     ┆           ┆               │\n",
       "└──────────┴───────────┴───────────────┴───────────────┴───┴─────┴─────┴───────────┴───────────────┘"
      ]
     },
     "execution_count": 79,
     "metadata": {},
     "output_type": "execute_result"
    }
   ],
   "source": [
    "final = final.with_columns(\n",
    "    ((pl.col('0') + pl.col('1') + pl.col('2') + pl.col('3'))/4).alias('trait_avg')\n",
    ")\n",
    "# essay_setごとにIQRでクリッピング\n",
    "def clip_by_iqr(series, lower_limit=1.5, upper_limit=1.5):\n",
    "    q1 = series.quantile(0.25)\n",
    "    q3 = series.quantile(0.75)\n",
    "    iqr = q3 - q1\n",
    "    lower_bound = q1 - lower_limit * iqr\n",
    "    upper_bound = q3 + upper_limit * iqr\n",
    "    return series.clip(lower_bound, upper_bound)\n",
    "\n",
    "clipped = final.group_by('essay_set').map_groups(lambda group:\n",
    "    group.with_columns([\n",
    "        pl.Series(clip_by_iqr(group['trait_avg'])).alias('trait_avg_agg')\n",
    "    ])\n",
    ")\n",
    "clipped"
   ]
  },
  {
   "cell_type": "code",
   "execution_count": 80,
   "metadata": {},
   "outputs": [
    {
     "data": {
      "text/html": [
       "<div><style>\n",
       ".dataframe > thead > tr,\n",
       ".dataframe > tbody > tr {\n",
       "  text-align: right;\n",
       "  white-space: pre-wrap;\n",
       "}\n",
       "</style>\n",
       "<small>shape: (9, 12)</small><table border=\"1\" class=\"dataframe\"><thead><tr><th>statistic</th><th>essay_id</th><th>essay_set</th><th>original_score</th><th>essay</th><th>score</th><th>0</th><th>1</th><th>2</th><th>3</th><th>trait_avg</th><th>trait_avg_agg</th></tr><tr><td>str</td><td>f64</td><td>f64</td><td>str</td><td>str</td><td>f64</td><td>f64</td><td>f64</td><td>f64</td><td>f64</td><td>f64</td><td>f64</td></tr></thead><tbody><tr><td>&quot;count&quot;</td><td>1099.0</td><td>1099.0</td><td>&quot;1099&quot;</td><td>&quot;1099&quot;</td><td>1099.0</td><td>1099.0</td><td>1099.0</td><td>1099.0</td><td>1099.0</td><td>1099.0</td><td>1099.0</td></tr><tr><td>&quot;null_count&quot;</td><td>0.0</td><td>0.0</td><td>&quot;0&quot;</td><td>&quot;0&quot;</td><td>0.0</td><td>0.0</td><td>0.0</td><td>0.0</td><td>0.0</td><td>0.0</td><td>0.0</td></tr><tr><td>&quot;mean&quot;</td><td>985185.592357</td><td>4.484986</td><td>null</td><td>null</td><td>1.21747</td><td>4.508644</td><td>4.399454</td><td>4.514104</td><td>4.301183</td><td>4.430846</td><td>4.420496</td></tr><tr><td>&quot;std&quot;</td><td>307937.154371</td><td>2.325612</td><td>null</td><td>null</td><td>0.635203</td><td>1.414429</td><td>1.201714</td><td>1.198257</td><td>1.191694</td><td>1.118897</td><td>1.078135</td></tr><tr><td>&quot;min&quot;</td><td>10229.0</td><td>1.0</td><td>&quot;high&quot;</td><td>&quot;\t&quot;Jack of all trades, master o…</td><td>0.0</td><td>1.0</td><td>1.0</td><td>2.0</td><td>2.0</td><td>1.5</td><td>1.5</td></tr><tr><td>&quot;25%&quot;</td><td>1.0308e6</td><td>2.0</td><td>null</td><td>null</td><td>1.0</td><td>4.0</td><td>4.0</td><td>4.0</td><td>3.0</td><td>3.75</td><td>3.75</td></tr><tr><td>&quot;50%&quot;</td><td>1.080962e6</td><td>4.0</td><td>null</td><td>null</td><td>1.0</td><td>4.0</td><td>4.0</td><td>5.0</td><td>4.0</td><td>4.25</td><td>4.25</td></tr><tr><td>&quot;75%&quot;</td><td>1.1272e6</td><td>7.0</td><td>null</td><td>null</td><td>2.0</td><td>6.0</td><td>5.0</td><td>5.0</td><td>5.0</td><td>5.25</td><td>5.25</td></tr><tr><td>&quot;max&quot;</td><td>1.176184e6</td><td>8.0</td><td>&quot;medium&quot;</td><td>&quot;young peolple enjoy life more …</td><td>2.0</td><td>8.0</td><td>8.0</td><td>8.0</td><td>8.0</td><td>8.0</td><td>8.0</td></tr></tbody></table></div>"
      ],
      "text/plain": [
       "shape: (9, 12)\n",
       "┌────────────┬───────────┬───────────┬───────────┬───┬──────────┬──────────┬───────────┬───────────┐\n",
       "│ statistic  ┆ essay_id  ┆ essay_set ┆ original_ ┆ … ┆ 2        ┆ 3        ┆ trait_avg ┆ trait_avg │\n",
       "│ ---        ┆ ---       ┆ ---       ┆ score     ┆   ┆ ---      ┆ ---      ┆ ---       ┆ _agg      │\n",
       "│ str        ┆ f64       ┆ f64       ┆ ---       ┆   ┆ f64      ┆ f64      ┆ f64       ┆ ---       │\n",
       "│            ┆           ┆           ┆ str       ┆   ┆          ┆          ┆           ┆ f64       │\n",
       "╞════════════╪═══════════╪═══════════╪═══════════╪═══╪══════════╪══════════╪═══════════╪═══════════╡\n",
       "│ count      ┆ 1099.0    ┆ 1099.0    ┆ 1099      ┆ … ┆ 1099.0   ┆ 1099.0   ┆ 1099.0    ┆ 1099.0    │\n",
       "│ null_count ┆ 0.0       ┆ 0.0       ┆ 0         ┆ … ┆ 0.0      ┆ 0.0      ┆ 0.0       ┆ 0.0       │\n",
       "│ mean       ┆ 985185.59 ┆ 4.484986  ┆ null      ┆ … ┆ 4.514104 ┆ 4.301183 ┆ 4.430846  ┆ 4.420496  │\n",
       "│            ┆ 2357      ┆           ┆           ┆   ┆          ┆          ┆           ┆           │\n",
       "│ std        ┆ 307937.15 ┆ 2.325612  ┆ null      ┆ … ┆ 1.198257 ┆ 1.191694 ┆ 1.118897  ┆ 1.078135  │\n",
       "│            ┆ 4371      ┆           ┆           ┆   ┆          ┆          ┆           ┆           │\n",
       "│ min        ┆ 10229.0   ┆ 1.0       ┆ high      ┆ … ┆ 2.0      ┆ 2.0      ┆ 1.5       ┆ 1.5       │\n",
       "│ 25%        ┆ 1.0308e6  ┆ 2.0       ┆ null      ┆ … ┆ 4.0      ┆ 3.0      ┆ 3.75      ┆ 3.75      │\n",
       "│ 50%        ┆ 1.080962e ┆ 4.0       ┆ null      ┆ … ┆ 5.0      ┆ 4.0      ┆ 4.25      ┆ 4.25      │\n",
       "│            ┆ 6         ┆           ┆           ┆   ┆          ┆          ┆           ┆           │\n",
       "│ 75%        ┆ 1.1272e6  ┆ 7.0       ┆ null      ┆ … ┆ 5.0      ┆ 5.0      ┆ 5.25      ┆ 5.25      │\n",
       "│ max        ┆ 1.176184e ┆ 8.0       ┆ medium    ┆ … ┆ 8.0      ┆ 8.0      ┆ 8.0       ┆ 8.0       │\n",
       "│            ┆ 6         ┆           ┆           ┆   ┆          ┆          ┆           ┆           │\n",
       "└────────────┴───────────┴───────────┴───────────┴───┴──────────┴──────────┴───────────┴───────────┘"
      ]
     },
     "execution_count": 80,
     "metadata": {},
     "output_type": "execute_result"
    }
   ],
   "source": [
    "clipped.describe()"
   ]
  },
  {
   "cell_type": "code",
   "execution_count": 81,
   "metadata": {},
   "outputs": [
    {
     "data": {
      "text/html": [
       "<div><style>\n",
       ".dataframe > thead > tr,\n",
       ".dataframe > tbody > tr {\n",
       "  text-align: right;\n",
       "  white-space: pre-wrap;\n",
       "}\n",
       "</style>\n",
       "<small>shape: (1_099, 13)</small><table border=\"1\" class=\"dataframe\"><thead><tr><th>essay_id</th><th>essay_set</th><th>original_score</th><th>essay</th><th>score</th><th>0</th><th>1</th><th>2</th><th>3</th><th>trait_avg</th><th>trait_avg_agg</th><th>five_point_score</th><th>normalized_score</th></tr><tr><td>i64</td><td>i64</td><td>str</td><td>str</td><td>i32</td><td>i64</td><td>i64</td><td>i64</td><td>i64</td><td>f64</td><td>f64</td><td>i64</td><td>i32</td></tr></thead><tbody><tr><td>11644</td><td>6</td><td>&quot;medium&quot;</td><td>&quot;I agree with this statement. B…</td><td>1</td><td>4</td><td>4</td><td>4</td><td>4</td><td>4.0</td><td>4.0</td><td>2</td><td>0</td></tr><tr><td>104344</td><td>6</td><td>&quot;medium&quot;</td><td>&quot;Some people agree with the sta…</td><td>1</td><td>5</td><td>4</td><td>4</td><td>5</td><td>4.5</td><td>4.5</td><td>3</td><td>1</td></tr><tr><td>104726</td><td>6</td><td>&quot;high&quot;</td><td>&quot;The answer to this question de…</td><td>2</td><td>5</td><td>4</td><td>5</td><td>4</td><td>4.5</td><td>4.5</td><td>3</td><td>1</td></tr><tr><td>105677</td><td>6</td><td>&quot;low&quot;</td><td>&quot;I disagree with this statement…</td><td>0</td><td>4</td><td>4</td><td>4</td><td>5</td><td>4.25</td><td>4.25</td><td>2</td><td>0</td></tr><tr><td>105815</td><td>6</td><td>&quot;medium&quot;</td><td>&quot;Last summer, my wife and I wer…</td><td>1</td><td>6</td><td>6</td><td>5</td><td>5</td><td>5.5</td><td>5.5</td><td>4</td><td>2</td></tr><tr><td>&hellip;</td><td>&hellip;</td><td>&hellip;</td><td>&hellip;</td><td>&hellip;</td><td>&hellip;</td><td>&hellip;</td><td>&hellip;</td><td>&hellip;</td><td>&hellip;</td><td>&hellip;</td><td>&hellip;</td><td>&hellip;</td></tr><tr><td>1174142</td><td>8</td><td>&quot;medium&quot;</td><td>&quot;Doing what you already can its…</td><td>1</td><td>6</td><td>4</td><td>4</td><td>4</td><td>4.5</td><td>4.5</td><td>2</td><td>0</td></tr><tr><td>1174410</td><td>8</td><td>&quot;medium&quot;</td><td>&quot;The term &quot;Successful&quot; is relat…</td><td>1</td><td>5</td><td>4</td><td>5</td><td>4</td><td>4.5</td><td>4.5</td><td>2</td><td>0</td></tr><tr><td>1175488</td><td>8</td><td>&quot;medium&quot;</td><td>&quot;I believe that people who take…</td><td>1</td><td>4</td><td>3</td><td>4</td><td>4</td><td>3.75</td><td>3.75</td><td>2</td><td>0</td></tr><tr><td>1175980</td><td>8</td><td>&quot;low&quot;</td><td>&quot;With the rapid progress of tim…</td><td>0</td><td>4</td><td>4</td><td>3</td><td>3</td><td>3.5</td><td>3.5</td><td>2</td><td>0</td></tr><tr><td>1176184</td><td>8</td><td>&quot;medium&quot;</td><td>&quot;Taking risks and trying new th…</td><td>1</td><td>8</td><td>7</td><td>7</td><td>7</td><td>7.25</td><td>7.25</td><td>4</td><td>2</td></tr></tbody></table></div>"
      ],
      "text/plain": [
       "shape: (1_099, 13)\n",
       "┌──────────┬───────────┬───────────┬───────────┬───┬───────────┬───────────┬───────────┬───────────┐\n",
       "│ essay_id ┆ essay_set ┆ original_ ┆ essay     ┆ … ┆ trait_avg ┆ trait_avg ┆ five_poin ┆ normalize │\n",
       "│ ---      ┆ ---       ┆ score     ┆ ---       ┆   ┆ ---       ┆ _agg      ┆ t_score   ┆ d_score   │\n",
       "│ i64      ┆ i64       ┆ ---       ┆ str       ┆   ┆ f64       ┆ ---       ┆ ---       ┆ ---       │\n",
       "│          ┆           ┆ str       ┆           ┆   ┆           ┆ f64       ┆ i64       ┆ i32       │\n",
       "╞══════════╪═══════════╪═══════════╪═══════════╪═══╪═══════════╪═══════════╪═══════════╪═══════════╡\n",
       "│ 11644    ┆ 6         ┆ medium    ┆ I agree   ┆ … ┆ 4.0       ┆ 4.0       ┆ 2         ┆ 0         │\n",
       "│          ┆           ┆           ┆ with this ┆   ┆           ┆           ┆           ┆           │\n",
       "│          ┆           ┆           ┆ statement ┆   ┆           ┆           ┆           ┆           │\n",
       "│          ┆           ┆           ┆ . B…      ┆   ┆           ┆           ┆           ┆           │\n",
       "│ 104344   ┆ 6         ┆ medium    ┆ Some      ┆ … ┆ 4.5       ┆ 4.5       ┆ 3         ┆ 1         │\n",
       "│          ┆           ┆           ┆ people    ┆   ┆           ┆           ┆           ┆           │\n",
       "│          ┆           ┆           ┆ agree     ┆   ┆           ┆           ┆           ┆           │\n",
       "│          ┆           ┆           ┆ with the  ┆   ┆           ┆           ┆           ┆           │\n",
       "│          ┆           ┆           ┆ sta…      ┆   ┆           ┆           ┆           ┆           │\n",
       "│ 104726   ┆ 6         ┆ high      ┆ The       ┆ … ┆ 4.5       ┆ 4.5       ┆ 3         ┆ 1         │\n",
       "│          ┆           ┆           ┆ answer to ┆   ┆           ┆           ┆           ┆           │\n",
       "│          ┆           ┆           ┆ this      ┆   ┆           ┆           ┆           ┆           │\n",
       "│          ┆           ┆           ┆ question  ┆   ┆           ┆           ┆           ┆           │\n",
       "│          ┆           ┆           ┆ de…       ┆   ┆           ┆           ┆           ┆           │\n",
       "│ 105677   ┆ 6         ┆ low       ┆ I         ┆ … ┆ 4.25      ┆ 4.25      ┆ 2         ┆ 0         │\n",
       "│          ┆           ┆           ┆ disagree  ┆   ┆           ┆           ┆           ┆           │\n",
       "│          ┆           ┆           ┆ with this ┆   ┆           ┆           ┆           ┆           │\n",
       "│          ┆           ┆           ┆ statement ┆   ┆           ┆           ┆           ┆           │\n",
       "│          ┆           ┆           ┆ …         ┆   ┆           ┆           ┆           ┆           │\n",
       "│ 105815   ┆ 6         ┆ medium    ┆ Last      ┆ … ┆ 5.5       ┆ 5.5       ┆ 4         ┆ 2         │\n",
       "│          ┆           ┆           ┆ summer,   ┆   ┆           ┆           ┆           ┆           │\n",
       "│          ┆           ┆           ┆ my wife   ┆   ┆           ┆           ┆           ┆           │\n",
       "│          ┆           ┆           ┆ and I     ┆   ┆           ┆           ┆           ┆           │\n",
       "│          ┆           ┆           ┆ wer…      ┆   ┆           ┆           ┆           ┆           │\n",
       "│ …        ┆ …         ┆ …         ┆ …         ┆ … ┆ …         ┆ …         ┆ …         ┆ …         │\n",
       "│ 1174142  ┆ 8         ┆ medium    ┆ Doing     ┆ … ┆ 4.5       ┆ 4.5       ┆ 2         ┆ 0         │\n",
       "│          ┆           ┆           ┆ what you  ┆   ┆           ┆           ┆           ┆           │\n",
       "│          ┆           ┆           ┆ already   ┆   ┆           ┆           ┆           ┆           │\n",
       "│          ┆           ┆           ┆ can its…  ┆   ┆           ┆           ┆           ┆           │\n",
       "│ 1174410  ┆ 8         ┆ medium    ┆ The term  ┆ … ┆ 4.5       ┆ 4.5       ┆ 2         ┆ 0         │\n",
       "│          ┆           ┆           ┆ \"Successf ┆   ┆           ┆           ┆           ┆           │\n",
       "│          ┆           ┆           ┆ ul\" is    ┆   ┆           ┆           ┆           ┆           │\n",
       "│          ┆           ┆           ┆ relat…    ┆   ┆           ┆           ┆           ┆           │\n",
       "│ 1175488  ┆ 8         ┆ medium    ┆ I believe ┆ … ┆ 3.75      ┆ 3.75      ┆ 2         ┆ 0         │\n",
       "│          ┆           ┆           ┆ that      ┆   ┆           ┆           ┆           ┆           │\n",
       "│          ┆           ┆           ┆ people    ┆   ┆           ┆           ┆           ┆           │\n",
       "│          ┆           ┆           ┆ who take… ┆   ┆           ┆           ┆           ┆           │\n",
       "│ 1175980  ┆ 8         ┆ low       ┆ With the  ┆ … ┆ 3.5       ┆ 3.5       ┆ 2         ┆ 0         │\n",
       "│          ┆           ┆           ┆ rapid     ┆   ┆           ┆           ┆           ┆           │\n",
       "│          ┆           ┆           ┆ progress  ┆   ┆           ┆           ┆           ┆           │\n",
       "│          ┆           ┆           ┆ of tim…   ┆   ┆           ┆           ┆           ┆           │\n",
       "│ 1176184  ┆ 8         ┆ medium    ┆ Taking    ┆ … ┆ 7.25      ┆ 7.25      ┆ 4         ┆ 2         │\n",
       "│          ┆           ┆           ┆ risks and ┆   ┆           ┆           ┆           ┆           │\n",
       "│          ┆           ┆           ┆ trying    ┆   ┆           ┆           ┆           ┆           │\n",
       "│          ┆           ┆           ┆ new th…   ┆   ┆           ┆           ┆           ┆           │\n",
       "└──────────┴───────────┴───────────┴───────────┴───┴───────────┴───────────┴───────────┴───────────┘"
      ]
     },
     "execution_count": 81,
     "metadata": {},
     "output_type": "execute_result"
    }
   ],
   "source": [
    "# essay_setごとにスコアを正規化（min-max変換）\n",
    "normalized = clipped.group_by('essay_set').map_groups(lambda group: \n",
    "    group.with_columns([\n",
    "        pl.col('trait_avg_agg').map_elements(\n",
    "            lambda x: int(\n",
    "                (x - group['trait_avg_agg'].min()) * (5 - 1) / (group['trait_avg_agg'].max() - group['trait_avg_agg'].min()) + 1\n",
    "            ), return_dtype=pl.Int64\n",
    "        ).alias('five_point_score')\n",
    "    ])\n",
    ")\n",
    "normalized = normalized.with_columns(\n",
    "    pl.when(pl.col('five_point_score') <= 2.25)\n",
    "    .then(0)\n",
    "    .when(pl.col('five_point_score') <= 3.75)\n",
    "    .then(1)\n",
    "    .otherwise(2).alias('normalized_score')\n",
    ")\n",
    "normalized"
   ]
  },
  {
   "cell_type": "code",
   "execution_count": 82,
   "metadata": {},
   "outputs": [
    {
     "name": "stdout",
     "output_type": "stream",
     "text": [
      "QWK scores by essay set:\n",
      "shape: (8, 2)\n",
      "┌───────────┬──────────┐\n",
      "│ essay_set ┆ qwk      │\n",
      "│ ---       ┆ ---      │\n",
      "│ i64       ┆ f64      │\n",
      "╞═══════════╪══════════╡\n",
      "│ 1         ┆ 0.360596 │\n",
      "│ 2         ┆ 0.388507 │\n",
      "│ 3         ┆ 0.453785 │\n",
      "│ 4         ┆ 0.455646 │\n",
      "│ 5         ┆ 0.340807 │\n",
      "│ 6         ┆ 0.363636 │\n",
      "│ 7         ┆ 0.322618 │\n",
      "│ 8         ┆ 0.298557 │\n",
      "└───────────┴──────────┘\n",
      "スピアマンの順位相関係数 by essay set:\n",
      "shape: (8, 2)\n",
      "┌───────────┬───────────────┐\n",
      "│ essay_set ┆ spearman_corr │\n",
      "│ ---       ┆ ---           │\n",
      "│ i64       ┆ f64           │\n",
      "╞═══════════╪═══════════════╡\n",
      "│ 1         ┆ 0.648677      │\n",
      "│ 2         ┆ 0.572243      │\n",
      "│ 3         ┆ 0.71951       │\n",
      "│ 4         ┆ 0.643992      │\n",
      "│ 5         ┆ 0.531627      │\n",
      "│ 6         ┆ 0.549069      │\n",
      "│ 7         ┆ 0.607669      │\n",
      "│ 8         ┆ 0.563284      │\n",
      "└───────────┴───────────────┘\n"
     ]
    }
   ],
   "source": [
    "from scipy.stats import spearmanr\n",
    "# essay_setごとにQWKとスピアマンの順位相関係数を計算\n",
    "qwk_scores = []\n",
    "spearman_scores = []\n",
    "for essay_set in normalized['essay_set'].unique():\n",
    "    subset = normalized.filter(pl.col('essay_set') == essay_set)\n",
    "    minsocre, maxscore = get_score_range(DATASET, essay_set)\n",
    "    qwk = cohen_kappa_score(\n",
    "        subset['score'].to_numpy(),\n",
    "        subset['normalized_score'].to_numpy(),\n",
    "        weights='quadratic',\n",
    "        labels=[i for i in range(minsocre, maxscore + 1)]\n",
    "    )\n",
    "    spearman_corr, _ = spearmanr(subset['score'].to_numpy(), subset['trait_avg'].to_numpy())\n",
    "    qwk_scores.append({\n",
    "        'essay_set': essay_set,\n",
    "        'qwk': qwk\n",
    "    })\n",
    "    spearman_scores.append({\n",
    "        'essay_set': essay_set,\n",
    "        'spearman_corr': spearman_corr\n",
    "    })\n",
    "\n",
    "qwk_df = pl.DataFrame(qwk_scores)\n",
    "spearman_df = pl.DataFrame(spearman_scores)\n",
    "print(\"QWK scores by essay set:\")\n",
    "print(qwk_df)\n",
    "print(\"スピアマンの順位相関係数 by essay set:\")\n",
    "print(spearman_df)"
   ]
  },
  {
   "cell_type": "code",
   "execution_count": 83,
   "metadata": {},
   "outputs": [
    {
     "data": {
      "text/plain": [
       "0.373019260992612"
      ]
     },
     "execution_count": 83,
     "metadata": {},
     "output_type": "execute_result"
    }
   ],
   "source": [
    "qwk_df['qwk'].mean()"
   ]
  },
  {
   "cell_type": "code",
   "execution_count": 84,
   "metadata": {},
   "outputs": [
    {
     "data": {
      "text/plain": [
       "0.6045088669979548"
      ]
     },
     "execution_count": 84,
     "metadata": {},
     "output_type": "execute_result"
    }
   ],
   "source": [
    "spearman_df['spearman_corr'].mean()"
   ]
  },
  {
   "cell_type": "code",
   "execution_count": 44,
   "metadata": {},
   "outputs": [
    {
     "ename": "AttributeError",
     "evalue": "'numpy.int32' object has no attribute 'startswith'",
     "output_type": "error",
     "traceback": [
      "\u001b[0;31m---------------------------------------------------------------------------\u001b[0m",
      "\u001b[0;31mAttributeError\u001b[0m                            Traceback (most recent call last)",
      "Cell \u001b[0;32mIn[44], line 4\u001b[0m\n\u001b[1;32m      1\u001b[0m \u001b[38;5;28;01mimport\u001b[39;00m \u001b[38;5;21;01mseaborn\u001b[39;00m \u001b[38;5;28;01mas\u001b[39;00m \u001b[38;5;21;01msns\u001b[39;00m\n\u001b[1;32m      2\u001b[0m \u001b[38;5;28;01mimport\u001b[39;00m \u001b[38;5;21;01mmatplotlib\u001b[39;00m\u001b[38;5;21;01m.\u001b[39;00m\u001b[38;5;21;01mpyplot\u001b[39;00m \u001b[38;5;28;01mas\u001b[39;00m \u001b[38;5;21;01mplt\u001b[39;00m\n\u001b[0;32m----> 4\u001b[0m \u001b[43msns\u001b[49m\u001b[38;5;241;43m.\u001b[39;49m\u001b[43mcountplot\u001b[49m\u001b[43m(\u001b[49m\u001b[43mdata\u001b[49m\u001b[38;5;241;43m=\u001b[39;49m\u001b[43mfinal\u001b[49m\u001b[38;5;241;43m.\u001b[39;49m\u001b[43mto_pandas\u001b[49m\u001b[43m(\u001b[49m\u001b[43m)\u001b[49m\u001b[43m,\u001b[49m\u001b[43m \u001b[49m\u001b[43mx\u001b[49m\u001b[38;5;241;43m=\u001b[39;49m\u001b[38;5;124;43m'\u001b[39;49m\u001b[38;5;124;43messay_set\u001b[39;49m\u001b[38;5;124;43m'\u001b[39;49m\u001b[43m,\u001b[49m\u001b[43m \u001b[49m\u001b[43mhue\u001b[49m\u001b[38;5;241;43m=\u001b[39;49m\u001b[38;5;124;43m'\u001b[39;49m\u001b[38;5;124;43mscore\u001b[39;49m\u001b[38;5;124;43m'\u001b[39;49m\u001b[43m)\u001b[49m\n\u001b[1;32m      5\u001b[0m plt\u001b[38;5;241m.\u001b[39mshow()\n",
      "File \u001b[0;32m~/anaconda3/envs/torch/lib/python3.10/site-packages/seaborn/categorical.py:2955\u001b[0m, in \u001b[0;36mcountplot\u001b[0;34m(data, x, y, hue, order, hue_order, orient, color, palette, saturation, width, dodge, ax, **kwargs)\u001b[0m\n\u001b[1;32m   2952\u001b[0m \u001b[38;5;28;01mif\u001b[39;00m ax \u001b[38;5;129;01mis\u001b[39;00m \u001b[38;5;28;01mNone\u001b[39;00m:\n\u001b[1;32m   2953\u001b[0m     ax \u001b[38;5;241m=\u001b[39m plt\u001b[38;5;241m.\u001b[39mgca()\n\u001b[0;32m-> 2955\u001b[0m \u001b[43mplotter\u001b[49m\u001b[38;5;241;43m.\u001b[39;49m\u001b[43mplot\u001b[49m\u001b[43m(\u001b[49m\u001b[43max\u001b[49m\u001b[43m,\u001b[49m\u001b[43m \u001b[49m\u001b[43mkwargs\u001b[49m\u001b[43m)\u001b[49m\n\u001b[1;32m   2956\u001b[0m \u001b[38;5;28;01mreturn\u001b[39;00m ax\n",
      "File \u001b[0;32m~/anaconda3/envs/torch/lib/python3.10/site-packages/seaborn/categorical.py:1587\u001b[0m, in \u001b[0;36m_BarPlotter.plot\u001b[0;34m(self, ax, bar_kws)\u001b[0m\n\u001b[1;32m   1585\u001b[0m \u001b[38;5;250m\u001b[39m\u001b[38;5;124;03m\"\"\"Make the plot.\"\"\"\u001b[39;00m\n\u001b[1;32m   1586\u001b[0m \u001b[38;5;28mself\u001b[39m\u001b[38;5;241m.\u001b[39mdraw_bars(ax, bar_kws)\n\u001b[0;32m-> 1587\u001b[0m \u001b[38;5;28;43mself\u001b[39;49m\u001b[38;5;241;43m.\u001b[39;49m\u001b[43mannotate_axes\u001b[49m\u001b[43m(\u001b[49m\u001b[43max\u001b[49m\u001b[43m)\u001b[49m\n\u001b[1;32m   1588\u001b[0m \u001b[38;5;28;01mif\u001b[39;00m \u001b[38;5;28mself\u001b[39m\u001b[38;5;241m.\u001b[39morient \u001b[38;5;241m==\u001b[39m \u001b[38;5;124m\"\u001b[39m\u001b[38;5;124mh\u001b[39m\u001b[38;5;124m\"\u001b[39m:\n\u001b[1;32m   1589\u001b[0m     ax\u001b[38;5;241m.\u001b[39minvert_yaxis()\n",
      "File \u001b[0;32m~/anaconda3/envs/torch/lib/python3.10/site-packages/seaborn/categorical.py:767\u001b[0m, in \u001b[0;36m_CategoricalPlotter.annotate_axes\u001b[0;34m(self, ax)\u001b[0m\n\u001b[1;32m    764\u001b[0m     ax\u001b[38;5;241m.\u001b[39mset_ylim(\u001b[38;5;241m-\u001b[39m\u001b[38;5;241m.5\u001b[39m, \u001b[38;5;28mlen\u001b[39m(\u001b[38;5;28mself\u001b[39m\u001b[38;5;241m.\u001b[39mplot_data) \u001b[38;5;241m-\u001b[39m \u001b[38;5;241m.5\u001b[39m, auto\u001b[38;5;241m=\u001b[39m\u001b[38;5;28;01mNone\u001b[39;00m)\n\u001b[1;32m    766\u001b[0m \u001b[38;5;28;01mif\u001b[39;00m \u001b[38;5;28mself\u001b[39m\u001b[38;5;241m.\u001b[39mhue_names \u001b[38;5;129;01mis\u001b[39;00m \u001b[38;5;129;01mnot\u001b[39;00m \u001b[38;5;28;01mNone\u001b[39;00m:\n\u001b[0;32m--> 767\u001b[0m     \u001b[43max\u001b[49m\u001b[38;5;241;43m.\u001b[39;49m\u001b[43mlegend\u001b[49m\u001b[43m(\u001b[49m\u001b[43mloc\u001b[49m\u001b[38;5;241;43m=\u001b[39;49m\u001b[38;5;124;43m\"\u001b[39;49m\u001b[38;5;124;43mbest\u001b[39;49m\u001b[38;5;124;43m\"\u001b[39;49m\u001b[43m,\u001b[49m\u001b[43m \u001b[49m\u001b[43mtitle\u001b[49m\u001b[38;5;241;43m=\u001b[39;49m\u001b[38;5;28;43mself\u001b[39;49m\u001b[38;5;241;43m.\u001b[39;49m\u001b[43mhue_title\u001b[49m\u001b[43m)\u001b[49m\n",
      "File \u001b[0;32m~/anaconda3/envs/torch/lib/python3.10/site-packages/matplotlib/axes/_axes.py:322\u001b[0m, in \u001b[0;36mAxes.legend\u001b[0;34m(self, *args, **kwargs)\u001b[0m\n\u001b[1;32m    204\u001b[0m \u001b[38;5;129m@_docstring\u001b[39m\u001b[38;5;241m.\u001b[39mdedent_interpd\n\u001b[1;32m    205\u001b[0m \u001b[38;5;28;01mdef\u001b[39;00m \u001b[38;5;21mlegend\u001b[39m(\u001b[38;5;28mself\u001b[39m, \u001b[38;5;241m*\u001b[39margs, \u001b[38;5;241m*\u001b[39m\u001b[38;5;241m*\u001b[39mkwargs):\n\u001b[1;32m    206\u001b[0m \u001b[38;5;250m    \u001b[39m\u001b[38;5;124;03m\"\"\"\u001b[39;00m\n\u001b[1;32m    207\u001b[0m \u001b[38;5;124;03m    Place a legend on the Axes.\u001b[39;00m\n\u001b[1;32m    208\u001b[0m \n\u001b[0;32m   (...)\u001b[0m\n\u001b[1;32m    320\u001b[0m \u001b[38;5;124;03m    .. plot:: gallery/text_labels_and_annotations/legend.py\u001b[39;00m\n\u001b[1;32m    321\u001b[0m \u001b[38;5;124;03m    \"\"\"\u001b[39;00m\n\u001b[0;32m--> 322\u001b[0m     handles, labels, kwargs \u001b[38;5;241m=\u001b[39m \u001b[43mmlegend\u001b[49m\u001b[38;5;241;43m.\u001b[39;49m\u001b[43m_parse_legend_args\u001b[49m\u001b[43m(\u001b[49m\u001b[43m[\u001b[49m\u001b[38;5;28;43mself\u001b[39;49m\u001b[43m]\u001b[49m\u001b[43m,\u001b[49m\u001b[43m \u001b[49m\u001b[38;5;241;43m*\u001b[39;49m\u001b[43margs\u001b[49m\u001b[43m,\u001b[49m\u001b[43m \u001b[49m\u001b[38;5;241;43m*\u001b[39;49m\u001b[38;5;241;43m*\u001b[39;49m\u001b[43mkwargs\u001b[49m\u001b[43m)\u001b[49m\n\u001b[1;32m    323\u001b[0m     \u001b[38;5;28mself\u001b[39m\u001b[38;5;241m.\u001b[39mlegend_ \u001b[38;5;241m=\u001b[39m mlegend\u001b[38;5;241m.\u001b[39mLegend(\u001b[38;5;28mself\u001b[39m, handles, labels, \u001b[38;5;241m*\u001b[39m\u001b[38;5;241m*\u001b[39mkwargs)\n\u001b[1;32m    324\u001b[0m     \u001b[38;5;28mself\u001b[39m\u001b[38;5;241m.\u001b[39mlegend_\u001b[38;5;241m.\u001b[39m_remove_method \u001b[38;5;241m=\u001b[39m \u001b[38;5;28mself\u001b[39m\u001b[38;5;241m.\u001b[39m_remove_legend\n",
      "File \u001b[0;32m~/anaconda3/envs/torch/lib/python3.10/site-packages/matplotlib/legend.py:1361\u001b[0m, in \u001b[0;36m_parse_legend_args\u001b[0;34m(axs, handles, labels, *args, **kwargs)\u001b[0m\n\u001b[1;32m   1357\u001b[0m     handles \u001b[38;5;241m=\u001b[39m [handle \u001b[38;5;28;01mfor\u001b[39;00m handle, label\n\u001b[1;32m   1358\u001b[0m                \u001b[38;5;129;01min\u001b[39;00m \u001b[38;5;28mzip\u001b[39m(_get_legend_handles(axs, handlers), labels)]\n\u001b[1;32m   1360\u001b[0m \u001b[38;5;28;01melif\u001b[39;00m \u001b[38;5;28mlen\u001b[39m(args) \u001b[38;5;241m==\u001b[39m \u001b[38;5;241m0\u001b[39m:  \u001b[38;5;66;03m# 0 args: automatically detect labels and handles.\u001b[39;00m\n\u001b[0;32m-> 1361\u001b[0m     handles, labels \u001b[38;5;241m=\u001b[39m \u001b[43m_get_legend_handles_labels\u001b[49m\u001b[43m(\u001b[49m\u001b[43maxs\u001b[49m\u001b[43m,\u001b[49m\u001b[43m \u001b[49m\u001b[43mhandlers\u001b[49m\u001b[43m)\u001b[49m\n\u001b[1;32m   1362\u001b[0m     \u001b[38;5;28;01mif\u001b[39;00m \u001b[38;5;129;01mnot\u001b[39;00m handles:\n\u001b[1;32m   1363\u001b[0m         log\u001b[38;5;241m.\u001b[39mwarning(\n\u001b[1;32m   1364\u001b[0m             \u001b[38;5;124m\"\u001b[39m\u001b[38;5;124mNo artists with labels found to put in legend.  Note that \u001b[39m\u001b[38;5;124m\"\u001b[39m\n\u001b[1;32m   1365\u001b[0m             \u001b[38;5;124m\"\u001b[39m\u001b[38;5;124martists whose label start with an underscore are ignored \u001b[39m\u001b[38;5;124m\"\u001b[39m\n\u001b[1;32m   1366\u001b[0m             \u001b[38;5;124m\"\u001b[39m\u001b[38;5;124mwhen legend() is called with no argument.\u001b[39m\u001b[38;5;124m\"\u001b[39m)\n",
      "File \u001b[0;32m~/anaconda3/envs/torch/lib/python3.10/site-packages/matplotlib/legend.py:1291\u001b[0m, in \u001b[0;36m_get_legend_handles_labels\u001b[0;34m(axs, legend_handler_map)\u001b[0m\n\u001b[1;32m   1289\u001b[0m \u001b[38;5;28;01mfor\u001b[39;00m handle \u001b[38;5;129;01min\u001b[39;00m _get_legend_handles(axs, legend_handler_map):\n\u001b[1;32m   1290\u001b[0m     label \u001b[38;5;241m=\u001b[39m handle\u001b[38;5;241m.\u001b[39mget_label()\n\u001b[0;32m-> 1291\u001b[0m     \u001b[38;5;28;01mif\u001b[39;00m label \u001b[38;5;129;01mand\u001b[39;00m \u001b[38;5;129;01mnot\u001b[39;00m \u001b[43mlabel\u001b[49m\u001b[38;5;241;43m.\u001b[39;49m\u001b[43mstartswith\u001b[49m(\u001b[38;5;124m'\u001b[39m\u001b[38;5;124m_\u001b[39m\u001b[38;5;124m'\u001b[39m):\n\u001b[1;32m   1292\u001b[0m         handles\u001b[38;5;241m.\u001b[39mappend(handle)\n\u001b[1;32m   1293\u001b[0m         labels\u001b[38;5;241m.\u001b[39mappend(label)\n",
      "\u001b[0;31mAttributeError\u001b[0m: 'numpy.int32' object has no attribute 'startswith'"
     ]
    },
    {
     "data": {
      "image/png": "[encoded data removed]",
      "text/plain": [
       "<Figure size 640x480 with 1 Axes>"
      ]
     },
     "metadata": {},
     "output_type": "display_data"
    }
   ],
   "source": [
    "import seaborn as sns\n",
    "import matplotlib.pyplot as plt\n",
    "\n",
    "sns.countplot(data=final.to_pandas(), x='essay_set', hue='score')\n",
    "plt.show()"
   ]
  },
  {
   "cell_type": "code",
   "execution_count": 45,
   "metadata": {},
   "outputs": [
    {
     "ename": "AttributeError",
     "evalue": "'numpy.int64' object has no attribute 'startswith'",
     "output_type": "error",
     "traceback": [
      "\u001b[0;31m---------------------------------------------------------------------------\u001b[0m",
      "\u001b[0;31mAttributeError\u001b[0m                            Traceback (most recent call last)",
      "Cell \u001b[0;32mIn[45], line 1\u001b[0m\n\u001b[0;32m----> 1\u001b[0m \u001b[43msns\u001b[49m\u001b[38;5;241;43m.\u001b[39;49m\u001b[43mcountplot\u001b[49m\u001b[43m(\u001b[49m\u001b[43mdata\u001b[49m\u001b[38;5;241;43m=\u001b[39;49m\u001b[43mnormalized\u001b[49m\u001b[38;5;241;43m.\u001b[39;49m\u001b[43mto_pandas\u001b[49m\u001b[43m(\u001b[49m\u001b[43m)\u001b[49m\u001b[43m,\u001b[49m\u001b[43m \u001b[49m\u001b[43mx\u001b[49m\u001b[38;5;241;43m=\u001b[39;49m\u001b[38;5;124;43m'\u001b[39;49m\u001b[38;5;124;43messay_set\u001b[39;49m\u001b[38;5;124;43m'\u001b[39;49m\u001b[43m,\u001b[49m\u001b[43m \u001b[49m\u001b[43mhue\u001b[49m\u001b[38;5;241;43m=\u001b[39;49m\u001b[38;5;124;43m'\u001b[39;49m\u001b[38;5;124;43mnormalized_score\u001b[39;49m\u001b[38;5;124;43m'\u001b[39;49m\u001b[43m)\u001b[49m\n\u001b[1;32m      2\u001b[0m plt\u001b[38;5;241m.\u001b[39mshow()\n",
      "File \u001b[0;32m~/anaconda3/envs/torch/lib/python3.10/site-packages/seaborn/categorical.py:2955\u001b[0m, in \u001b[0;36mcountplot\u001b[0;34m(data, x, y, hue, order, hue_order, orient, color, palette, saturation, width, dodge, ax, **kwargs)\u001b[0m\n\u001b[1;32m   2952\u001b[0m \u001b[38;5;28;01mif\u001b[39;00m ax \u001b[38;5;129;01mis\u001b[39;00m \u001b[38;5;28;01mNone\u001b[39;00m:\n\u001b[1;32m   2953\u001b[0m     ax \u001b[38;5;241m=\u001b[39m plt\u001b[38;5;241m.\u001b[39mgca()\n\u001b[0;32m-> 2955\u001b[0m \u001b[43mplotter\u001b[49m\u001b[38;5;241;43m.\u001b[39;49m\u001b[43mplot\u001b[49m\u001b[43m(\u001b[49m\u001b[43max\u001b[49m\u001b[43m,\u001b[49m\u001b[43m \u001b[49m\u001b[43mkwargs\u001b[49m\u001b[43m)\u001b[49m\n\u001b[1;32m   2956\u001b[0m \u001b[38;5;28;01mreturn\u001b[39;00m ax\n",
      "File \u001b[0;32m~/anaconda3/envs/torch/lib/python3.10/site-packages/seaborn/categorical.py:1587\u001b[0m, in \u001b[0;36m_BarPlotter.plot\u001b[0;34m(self, ax, bar_kws)\u001b[0m\n\u001b[1;32m   1585\u001b[0m \u001b[38;5;250m\u001b[39m\u001b[38;5;124;03m\"\"\"Make the plot.\"\"\"\u001b[39;00m\n\u001b[1;32m   1586\u001b[0m \u001b[38;5;28mself\u001b[39m\u001b[38;5;241m.\u001b[39mdraw_bars(ax, bar_kws)\n\u001b[0;32m-> 1587\u001b[0m \u001b[38;5;28;43mself\u001b[39;49m\u001b[38;5;241;43m.\u001b[39;49m\u001b[43mannotate_axes\u001b[49m\u001b[43m(\u001b[49m\u001b[43max\u001b[49m\u001b[43m)\u001b[49m\n\u001b[1;32m   1588\u001b[0m \u001b[38;5;28;01mif\u001b[39;00m \u001b[38;5;28mself\u001b[39m\u001b[38;5;241m.\u001b[39morient \u001b[38;5;241m==\u001b[39m \u001b[38;5;124m\"\u001b[39m\u001b[38;5;124mh\u001b[39m\u001b[38;5;124m\"\u001b[39m:\n\u001b[1;32m   1589\u001b[0m     ax\u001b[38;5;241m.\u001b[39minvert_yaxis()\n",
      "File \u001b[0;32m~/anaconda3/envs/torch/lib/python3.10/site-packages/seaborn/categorical.py:767\u001b[0m, in \u001b[0;36m_CategoricalPlotter.annotate_axes\u001b[0;34m(self, ax)\u001b[0m\n\u001b[1;32m    764\u001b[0m     ax\u001b[38;5;241m.\u001b[39mset_ylim(\u001b[38;5;241m-\u001b[39m\u001b[38;5;241m.5\u001b[39m, \u001b[38;5;28mlen\u001b[39m(\u001b[38;5;28mself\u001b[39m\u001b[38;5;241m.\u001b[39mplot_data) \u001b[38;5;241m-\u001b[39m \u001b[38;5;241m.5\u001b[39m, auto\u001b[38;5;241m=\u001b[39m\u001b[38;5;28;01mNone\u001b[39;00m)\n\u001b[1;32m    766\u001b[0m \u001b[38;5;28;01mif\u001b[39;00m \u001b[38;5;28mself\u001b[39m\u001b[38;5;241m.\u001b[39mhue_names \u001b[38;5;129;01mis\u001b[39;00m \u001b[38;5;129;01mnot\u001b[39;00m \u001b[38;5;28;01mNone\u001b[39;00m:\n\u001b[0;32m--> 767\u001b[0m     \u001b[43max\u001b[49m\u001b[38;5;241;43m.\u001b[39;49m\u001b[43mlegend\u001b[49m\u001b[43m(\u001b[49m\u001b[43mloc\u001b[49m\u001b[38;5;241;43m=\u001b[39;49m\u001b[38;5;124;43m\"\u001b[39;49m\u001b[38;5;124;43mbest\u001b[39;49m\u001b[38;5;124;43m\"\u001b[39;49m\u001b[43m,\u001b[49m\u001b[43m \u001b[49m\u001b[43mtitle\u001b[49m\u001b[38;5;241;43m=\u001b[39;49m\u001b[38;5;28;43mself\u001b[39;49m\u001b[38;5;241;43m.\u001b[39;49m\u001b[43mhue_title\u001b[49m\u001b[43m)\u001b[49m\n",
      "File \u001b[0;32m~/anaconda3/envs/torch/lib/python3.10/site-packages/matplotlib/axes/_axes.py:322\u001b[0m, in \u001b[0;36mAxes.legend\u001b[0;34m(self, *args, **kwargs)\u001b[0m\n\u001b[1;32m    204\u001b[0m \u001b[38;5;129m@_docstring\u001b[39m\u001b[38;5;241m.\u001b[39mdedent_interpd\n\u001b[1;32m    205\u001b[0m \u001b[38;5;28;01mdef\u001b[39;00m \u001b[38;5;21mlegend\u001b[39m(\u001b[38;5;28mself\u001b[39m, \u001b[38;5;241m*\u001b[39margs, \u001b[38;5;241m*\u001b[39m\u001b[38;5;241m*\u001b[39mkwargs):\n\u001b[1;32m    206\u001b[0m \u001b[38;5;250m    \u001b[39m\u001b[38;5;124;03m\"\"\"\u001b[39;00m\n\u001b[1;32m    207\u001b[0m \u001b[38;5;124;03m    Place a legend on the Axes.\u001b[39;00m\n\u001b[1;32m    208\u001b[0m \n\u001b[0;32m   (...)\u001b[0m\n\u001b[1;32m    320\u001b[0m \u001b[38;5;124;03m    .. plot:: gallery/text_labels_and_annotations/legend.py\u001b[39;00m\n\u001b[1;32m    321\u001b[0m \u001b[38;5;124;03m    \"\"\"\u001b[39;00m\n\u001b[0;32m--> 322\u001b[0m     handles, labels, kwargs \u001b[38;5;241m=\u001b[39m \u001b[43mmlegend\u001b[49m\u001b[38;5;241;43m.\u001b[39;49m\u001b[43m_parse_legend_args\u001b[49m\u001b[43m(\u001b[49m\u001b[43m[\u001b[49m\u001b[38;5;28;43mself\u001b[39;49m\u001b[43m]\u001b[49m\u001b[43m,\u001b[49m\u001b[43m \u001b[49m\u001b[38;5;241;43m*\u001b[39;49m\u001b[43margs\u001b[49m\u001b[43m,\u001b[49m\u001b[43m \u001b[49m\u001b[38;5;241;43m*\u001b[39;49m\u001b[38;5;241;43m*\u001b[39;49m\u001b[43mkwargs\u001b[49m\u001b[43m)\u001b[49m\n\u001b[1;32m    323\u001b[0m     \u001b[38;5;28mself\u001b[39m\u001b[38;5;241m.\u001b[39mlegend_ \u001b[38;5;241m=\u001b[39m mlegend\u001b[38;5;241m.\u001b[39mLegend(\u001b[38;5;28mself\u001b[39m, handles, labels, \u001b[38;5;241m*\u001b[39m\u001b[38;5;241m*\u001b[39mkwargs)\n\u001b[1;32m    324\u001b[0m     \u001b[38;5;28mself\u001b[39m\u001b[38;5;241m.\u001b[39mlegend_\u001b[38;5;241m.\u001b[39m_remove_method \u001b[38;5;241m=\u001b[39m \u001b[38;5;28mself\u001b[39m\u001b[38;5;241m.\u001b[39m_remove_legend\n",
      "File \u001b[0;32m~/anaconda3/envs/torch/lib/python3.10/site-packages/matplotlib/legend.py:1361\u001b[0m, in \u001b[0;36m_parse_legend_args\u001b[0;34m(axs, handles, labels, *args, **kwargs)\u001b[0m\n\u001b[1;32m   1357\u001b[0m     handles \u001b[38;5;241m=\u001b[39m [handle \u001b[38;5;28;01mfor\u001b[39;00m handle, label\n\u001b[1;32m   1358\u001b[0m                \u001b[38;5;129;01min\u001b[39;00m \u001b[38;5;28mzip\u001b[39m(_get_legend_handles(axs, handlers), labels)]\n\u001b[1;32m   1360\u001b[0m \u001b[38;5;28;01melif\u001b[39;00m \u001b[38;5;28mlen\u001b[39m(args) \u001b[38;5;241m==\u001b[39m \u001b[38;5;241m0\u001b[39m:  \u001b[38;5;66;03m# 0 args: automatically detect labels and handles.\u001b[39;00m\n\u001b[0;32m-> 1361\u001b[0m     handles, labels \u001b[38;5;241m=\u001b[39m \u001b[43m_get_legend_handles_labels\u001b[49m\u001b[43m(\u001b[49m\u001b[43maxs\u001b[49m\u001b[43m,\u001b[49m\u001b[43m \u001b[49m\u001b[43mhandlers\u001b[49m\u001b[43m)\u001b[49m\n\u001b[1;32m   1362\u001b[0m     \u001b[38;5;28;01mif\u001b[39;00m \u001b[38;5;129;01mnot\u001b[39;00m handles:\n\u001b[1;32m   1363\u001b[0m         log\u001b[38;5;241m.\u001b[39mwarning(\n\u001b[1;32m   1364\u001b[0m             \u001b[38;5;124m\"\u001b[39m\u001b[38;5;124mNo artists with labels found to put in legend.  Note that \u001b[39m\u001b[38;5;124m\"\u001b[39m\n\u001b[1;32m   1365\u001b[0m             \u001b[38;5;124m\"\u001b[39m\u001b[38;5;124martists whose label start with an underscore are ignored \u001b[39m\u001b[38;5;124m\"\u001b[39m\n\u001b[1;32m   1366\u001b[0m             \u001b[38;5;124m\"\u001b[39m\u001b[38;5;124mwhen legend() is called with no argument.\u001b[39m\u001b[38;5;124m\"\u001b[39m)\n",
      "File \u001b[0;32m~/anaconda3/envs/torch/lib/python3.10/site-packages/matplotlib/legend.py:1291\u001b[0m, in \u001b[0;36m_get_legend_handles_labels\u001b[0;34m(axs, legend_handler_map)\u001b[0m\n\u001b[1;32m   1289\u001b[0m \u001b[38;5;28;01mfor\u001b[39;00m handle \u001b[38;5;129;01min\u001b[39;00m _get_legend_handles(axs, legend_handler_map):\n\u001b[1;32m   1290\u001b[0m     label \u001b[38;5;241m=\u001b[39m handle\u001b[38;5;241m.\u001b[39mget_label()\n\u001b[0;32m-> 1291\u001b[0m     \u001b[38;5;28;01mif\u001b[39;00m label \u001b[38;5;129;01mand\u001b[39;00m \u001b[38;5;129;01mnot\u001b[39;00m \u001b[43mlabel\u001b[49m\u001b[38;5;241;43m.\u001b[39;49m\u001b[43mstartswith\u001b[49m(\u001b[38;5;124m'\u001b[39m\u001b[38;5;124m_\u001b[39m\u001b[38;5;124m'\u001b[39m):\n\u001b[1;32m   1292\u001b[0m         handles\u001b[38;5;241m.\u001b[39mappend(handle)\n\u001b[1;32m   1293\u001b[0m         labels\u001b[38;5;241m.\u001b[39mappend(label)\n",
      "\u001b[0;31mAttributeError\u001b[0m: 'numpy.int64' object has no attribute 'startswith'"
     ]
    },
    {
     "data": {
      "image/png": "[encoded data removed]",
      "text/plain": [
       "<Figure size 640x480 with 1 Axes>"
      ]
     },
     "metadata": {},
     "output_type": "display_data"
    }
   ],
   "source": [
    "sns.countplot(data=normalized.to_pandas(), x='essay_set', hue='normalized_score')\n",
    "plt.show()"
   ]
  },
  {
   "cell_type": "code",
   "execution_count": null,
   "metadata": {},
   "outputs": [],
   "source": []
  }
 ],
 "metadata": {
  "kernelspec": {
   "display_name": ".venv",
   "language": "python",
   "name": "python3"
  },
  "language_info": {
   "codemirror_mode": {
    "name": "ipython",
    "version": 3
   },
   "file_extension": ".py",
   "mimetype": "text/x-python",
   "name": "python",
   "nbconvert_exporter": "python",
   "pygments_lexer": "ipython3",
   "version": "3.10.0"
  }
 },
 "nbformat": 4,
 "nbformat_minor": 2
}
