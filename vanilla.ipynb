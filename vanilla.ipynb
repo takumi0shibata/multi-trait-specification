{
 "cells": [
  {
   "cell_type": "code",
   "execution_count": 2,
   "metadata": {},
   "outputs": [],
   "source": [
    "import os\n",
    "import re\n",
    "import torch\n",
    "import transformers\n",
    "from tqdm import tqdm\n",
    "import json\n",
    "import numpy as np\n",
    "import polars as pl\n",
    "from sklearn.metrics import cohen_kappa_score\n",
    "from typing import Optional, Literal\n",
    "from utils import load_asap_dataset, load_toefl_dataset, get_score_range\n",
    "from transformers import AutoTokenizer, AutoModelForCausalLM, GenerationConfig"
   ]
  },
  {
   "cell_type": "code",
   "execution_count": 10,
   "metadata": {},
   "outputs": [],
   "source": [
    "# TASK = \"ASAP\"\n",
    "TASK = \"TOEFL11\""
   ]
  },
  {
   "cell_type": "code",
   "execution_count": 11,
   "metadata": {},
   "outputs": [],
   "source": [
    "if TASK == \"ASAP\":\n",
    "    df = load_asap_dataset('datasets/ASAP', stratify=True)\n",
    "elif TASK == \"TOEFL11\":\n",
    "    df = load_toefl_dataset('datasets/TOEFL11')"
   ]
  },
  {
   "cell_type": "code",
   "execution_count": 12,
   "metadata": {},
   "outputs": [
    {
     "data": {
      "text/html": [
       "<div><style>\n",
       ".dataframe > thead > tr,\n",
       ".dataframe > tbody > tr {\n",
       "  text-align: right;\n",
       "  white-space: pre-wrap;\n",
       "}\n",
       "</style>\n",
       "<small>shape: (1_099, 5)</small><table border=\"1\" class=\"dataframe\"><thead><tr><th>essay_id</th><th>essay_set</th><th>original_score</th><th>essay</th><th>score</th></tr><tr><td>i64</td><td>i64</td><td>str</td><td>str</td><td>i32</td></tr></thead><tbody><tr><td>10229</td><td>8</td><td>&quot;low&quot;</td><td>&quot;I DO NOT AGREE WITH THIS STATE…</td><td>0</td></tr><tr><td>10392</td><td>1</td><td>&quot;high&quot;</td><td>&quot;I am not quite sure about my o…</td><td>2</td></tr><tr><td>10445</td><td>3</td><td>&quot;medium&quot;</td><td>&quot;It is often said that young pe…</td><td>1</td></tr><tr><td>10535</td><td>7</td><td>&quot;medium&quot;</td><td>&quot;In mordern society, students a…</td><td>1</td></tr><tr><td>10769</td><td>1</td><td>&quot;high&quot;</td><td>&quot;I find it productive and rewar…</td><td>2</td></tr><tr><td>&hellip;</td><td>&hellip;</td><td>&hellip;</td><td>&hellip;</td><td>&hellip;</td></tr><tr><td>1175383</td><td>2</td><td>&quot;medium&quot;</td><td>&quot;&nbsp;&nbsp;There are heated disscussion…</td><td>1</td></tr><tr><td>1175412</td><td>3</td><td>&quot;high&quot;</td><td>&quot;In my personal opinion young p…</td><td>2</td></tr><tr><td>1175488</td><td>8</td><td>&quot;medium&quot;</td><td>&quot;I believe that people who take…</td><td>1</td></tr><tr><td>1175980</td><td>8</td><td>&quot;low&quot;</td><td>&quot;With the rapid progress of tim…</td><td>0</td></tr><tr><td>1176184</td><td>8</td><td>&quot;medium&quot;</td><td>&quot;Taking risks and trying new th…</td><td>1</td></tr></tbody></table></div>"
      ],
      "text/plain": [
       "shape: (1_099, 5)\n",
       "┌──────────┬───────────┬────────────────┬─────────────────────────────────┬───────┐\n",
       "│ essay_id ┆ essay_set ┆ original_score ┆ essay                           ┆ score │\n",
       "│ ---      ┆ ---       ┆ ---            ┆ ---                             ┆ ---   │\n",
       "│ i64      ┆ i64       ┆ str            ┆ str                             ┆ i32   │\n",
       "╞══════════╪═══════════╪════════════════╪═════════════════════════════════╪═══════╡\n",
       "│ 10229    ┆ 8         ┆ low            ┆ I DO NOT AGREE WITH THIS STATE… ┆ 0     │\n",
       "│ 10392    ┆ 1         ┆ high           ┆ I am not quite sure about my o… ┆ 2     │\n",
       "│ 10445    ┆ 3         ┆ medium         ┆ It is often said that young pe… ┆ 1     │\n",
       "│ 10535    ┆ 7         ┆ medium         ┆ In mordern society, students a… ┆ 1     │\n",
       "│ 10769    ┆ 1         ┆ high           ┆ I find it productive and rewar… ┆ 2     │\n",
       "│ …        ┆ …         ┆ …              ┆ …                               ┆ …     │\n",
       "│ 1175383  ┆ 2         ┆ medium         ┆   There are heated disscussion… ┆ 1     │\n",
       "│ 1175412  ┆ 3         ┆ high           ┆ In my personal opinion young p… ┆ 2     │\n",
       "│ 1175488  ┆ 8         ┆ medium         ┆ I believe that people who take… ┆ 1     │\n",
       "│ 1175980  ┆ 8         ┆ low            ┆ With the rapid progress of tim… ┆ 0     │\n",
       "│ 1176184  ┆ 8         ┆ medium         ┆ Taking risks and trying new th… ┆ 1     │\n",
       "└──────────┴───────────┴────────────────┴─────────────────────────────────┴───────┘"
      ]
     },
     "execution_count": 12,
     "metadata": {},
     "output_type": "execute_result"
    }
   ],
   "source": [
    "df"
   ]
  },
  {
   "cell_type": "code",
   "execution_count": 47,
   "metadata": {},
   "outputs": [
    {
     "data": {
      "text/html": [
       "<div><style>\n",
       ".dataframe > thead > tr,\n",
       ".dataframe > tbody > tr {\n",
       "  text-align: right;\n",
       "  white-space: pre-wrap;\n",
       "}\n",
       "</style>\n",
       "<small>shape: (1_099, 5)</small><table border=\"1\" class=\"dataframe\"><thead><tr><th>essay_set</th><th>essay_id</th><th>response</th><th>pred_str</th><th>pred_score</th></tr><tr><td>i64</td><td>i64</td><td>str</td><td>str</td><td>i32</td></tr></thead><tbody><tr><td>8</td><td>10229</td><td>&quot;Evaluation: The essay presents…</td><td>&quot;Low&quot;</td><td>0</td></tr><tr><td>1</td><td>10392</td><td>&quot;Evaluation: The essay presents…</td><td>&quot;medium&quot;</td><td>1</td></tr><tr><td>3</td><td>10445</td><td>&quot;Evaluation: The essay presents…</td><td>&quot;low&quot;</td><td>0</td></tr><tr><td>7</td><td>10535</td><td>&quot;Evaluation: The essay presents…</td><td>&quot;high&quot;</td><td>2</td></tr><tr><td>1</td><td>10769</td><td>&quot;Evaluation: The essay presents…</td><td>&quot;high&quot;</td><td>2</td></tr><tr><td>&hellip;</td><td>&hellip;</td><td>&hellip;</td><td>&hellip;</td><td>&hellip;</td></tr><tr><td>2</td><td>1175383</td><td>&quot;Evaluation: The essay presents…</td><td>&quot;medium&quot;</td><td>1</td></tr><tr><td>3</td><td>1175412</td><td>&quot;Evaluation: The essay presents…</td><td>&quot;medium&quot;</td><td>1</td></tr><tr><td>8</td><td>1175488</td><td>&quot;Evaluation: The essay presents…</td><td>&quot;medium&quot;</td><td>1</td></tr><tr><td>8</td><td>1175980</td><td>&quot;Evaluation: The essay presents…</td><td>&quot;low&quot;</td><td>0</td></tr><tr><td>8</td><td>1176184</td><td>&quot;Evaluation: The essay presents…</td><td>&quot;high&quot;</td><td>2</td></tr></tbody></table></div>"
      ],
      "text/plain": [
       "shape: (1_099, 5)\n",
       "┌───────────┬──────────┬─────────────────────────────────┬──────────┬────────────┐\n",
       "│ essay_set ┆ essay_id ┆ response                        ┆ pred_str ┆ pred_score │\n",
       "│ ---       ┆ ---      ┆ ---                             ┆ ---      ┆ ---        │\n",
       "│ i64       ┆ i64      ┆ str                             ┆ str      ┆ i32        │\n",
       "╞═══════════╪══════════╪═════════════════════════════════╪══════════╪════════════╡\n",
       "│ 8         ┆ 10229    ┆ Evaluation: The essay presents… ┆ Low      ┆ 0          │\n",
       "│ 1         ┆ 10392    ┆ Evaluation: The essay presents… ┆ medium   ┆ 1          │\n",
       "│ 3         ┆ 10445    ┆ Evaluation: The essay presents… ┆ low      ┆ 0          │\n",
       "│ 7         ┆ 10535    ┆ Evaluation: The essay presents… ┆ high     ┆ 2          │\n",
       "│ 1         ┆ 10769    ┆ Evaluation: The essay presents… ┆ high     ┆ 2          │\n",
       "│ …         ┆ …        ┆ …                               ┆ …        ┆ …          │\n",
       "│ 2         ┆ 1175383  ┆ Evaluation: The essay presents… ┆ medium   ┆ 1          │\n",
       "│ 3         ┆ 1175412  ┆ Evaluation: The essay presents… ┆ medium   ┆ 1          │\n",
       "│ 8         ┆ 1175488  ┆ Evaluation: The essay presents… ┆ medium   ┆ 1          │\n",
       "│ 8         ┆ 1175980  ┆ Evaluation: The essay presents… ┆ low      ┆ 0          │\n",
       "│ 8         ┆ 1176184  ┆ Evaluation: The essay presents… ┆ high     ┆ 2          │\n",
       "└───────────┴──────────┴─────────────────────────────────┴──────────┴────────────┘"
      ]
     },
     "execution_count": 47,
     "metadata": {},
     "output_type": "execute_result"
    }
   ],
   "source": [
    "# model_name = \"meta-llama/Llama-2-7b-chat-hf\"\n",
    "# model_name = \"meta-llama/Llama-3.1-8B-Instruct\"\n",
    "# model_name = \"meta-llama/Llama-3.2-3B-Instruct\"\n",
    "model_name = \"mistralai/Mistral-7B-Instruct-v0.2\"\n",
    "results = pl.read_csv(f\"outputs/vanilla/{TASK}_{model_name.split('/')[1]}.csv\")\n",
    "results = results.rename({\"score\": \"pred_str\"})\n",
    "if TASK == \"TOEFL11\":\n",
    "    results = results.with_columns(\n",
    "        pl.when(pl.col(\"pred_str\").str.to_lowercase() == \"low\")\n",
    "        .then(0)\n",
    "        .when(pl.col(\"pred_str\").str.to_lowercase() == \"medium\")\n",
    "        .then(1)\n",
    "        .when(pl.col(\"pred_str\").str.to_lowercase() == \"high\")\n",
    "        .then(2)\n",
    "        .otherwise(-1)\n",
    "        .alias(\"pred_score\")\n",
    "    )\n",
    "results"
   ]
  },
  {
   "cell_type": "code",
   "execution_count": 48,
   "metadata": {},
   "outputs": [
    {
     "data": {
      "text/html": [
       "<div><style>\n",
       ".dataframe > thead > tr,\n",
       ".dataframe > tbody > tr {\n",
       "  text-align: right;\n",
       "  white-space: pre-wrap;\n",
       "}\n",
       "</style>\n",
       "<small>shape: (9, 6)</small><table border=\"1\" class=\"dataframe\"><thead><tr><th>statistic</th><th>essay_set</th><th>essay_id</th><th>response</th><th>pred_str</th><th>pred_score</th></tr><tr><td>str</td><td>f64</td><td>f64</td><td>str</td><td>str</td><td>f64</td></tr></thead><tbody><tr><td>&quot;count&quot;</td><td>1099.0</td><td>1099.0</td><td>&quot;1099&quot;</td><td>&quot;1099&quot;</td><td>1099.0</td></tr><tr><td>&quot;null_count&quot;</td><td>0.0</td><td>0.0</td><td>&quot;0&quot;</td><td>&quot;0&quot;</td><td>0.0</td></tr><tr><td>&quot;mean&quot;</td><td>4.484986</td><td>985185.592357</td><td>null</td><td>null</td><td>1.050045</td></tr><tr><td>&quot;std&quot;</td><td>2.325612</td><td>307937.154371</td><td>null</td><td>null</td><td>0.80314</td></tr><tr><td>&quot;min&quot;</td><td>1.0</td><td>10229.0</td><td>&quot;Evaluation: In Mokhtar Motamed…</td><td>&quot;Low&quot;</td><td>0.0</td></tr><tr><td>&quot;25%&quot;</td><td>2.0</td><td>1.0308e6</td><td>null</td><td>null</td><td>0.0</td></tr><tr><td>&quot;50%&quot;</td><td>4.0</td><td>1.080962e6</td><td>null</td><td>null</td><td>1.0</td></tr><tr><td>&quot;75%&quot;</td><td>7.0</td><td>1.1272e6</td><td>null</td><td>null</td><td>2.0</td></tr><tr><td>&quot;max&quot;</td><td>8.0</td><td>1.176184e6</td><td>&quot;Evaluation: The essay provides…</td><td>&quot;medium&quot;</td><td>2.0</td></tr></tbody></table></div>"
      ],
      "text/plain": [
       "shape: (9, 6)\n",
       "┌────────────┬───────────┬───────────────┬─────────────────────────────────┬──────────┬────────────┐\n",
       "│ statistic  ┆ essay_set ┆ essay_id      ┆ response                        ┆ pred_str ┆ pred_score │\n",
       "│ ---        ┆ ---       ┆ ---           ┆ ---                             ┆ ---      ┆ ---        │\n",
       "│ str        ┆ f64       ┆ f64           ┆ str                             ┆ str      ┆ f64        │\n",
       "╞════════════╪═══════════╪═══════════════╪═════════════════════════════════╪══════════╪════════════╡\n",
       "│ count      ┆ 1099.0    ┆ 1099.0        ┆ 1099                            ┆ 1099     ┆ 1099.0     │\n",
       "│ null_count ┆ 0.0       ┆ 0.0           ┆ 0                               ┆ 0        ┆ 0.0        │\n",
       "│ mean       ┆ 4.484986  ┆ 985185.592357 ┆ null                            ┆ null     ┆ 1.050045   │\n",
       "│ std        ┆ 2.325612  ┆ 307937.154371 ┆ null                            ┆ null     ┆ 0.80314    │\n",
       "│ min        ┆ 1.0       ┆ 10229.0       ┆ Evaluation: In Mokhtar Motamed… ┆ Low      ┆ 0.0        │\n",
       "│ 25%        ┆ 2.0       ┆ 1.0308e6      ┆ null                            ┆ null     ┆ 0.0        │\n",
       "│ 50%        ┆ 4.0       ┆ 1.080962e6    ┆ null                            ┆ null     ┆ 1.0        │\n",
       "│ 75%        ┆ 7.0       ┆ 1.1272e6      ┆ null                            ┆ null     ┆ 2.0        │\n",
       "│ max        ┆ 8.0       ┆ 1.176184e6    ┆ Evaluation: The essay provides… ┆ medium   ┆ 2.0        │\n",
       "└────────────┴───────────┴───────────────┴─────────────────────────────────┴──────────┴────────────┘"
      ]
     },
     "execution_count": 48,
     "metadata": {},
     "output_type": "execute_result"
    }
   ],
   "source": [
    "results.describe()"
   ]
  },
  {
   "cell_type": "code",
   "execution_count": 49,
   "metadata": {},
   "outputs": [
    {
     "data": {
      "text/html": [
       "<div><style>\n",
       ".dataframe > thead > tr,\n",
       ".dataframe > tbody > tr {\n",
       "  text-align: right;\n",
       "  white-space: pre-wrap;\n",
       "}\n",
       "</style>\n",
       "<small>shape: (1_099, 8)</small><table border=\"1\" class=\"dataframe\"><thead><tr><th>essay_id</th><th>essay_set</th><th>original_score</th><th>essay</th><th>score</th><th>response</th><th>pred_str</th><th>pred_score</th></tr><tr><td>i64</td><td>i64</td><td>str</td><td>str</td><td>i32</td><td>str</td><td>str</td><td>i32</td></tr></thead><tbody><tr><td>10229</td><td>8</td><td>&quot;low&quot;</td><td>&quot;I DO NOT AGREE WITH THIS STATE…</td><td>0</td><td>&quot;Evaluation: The essay presents…</td><td>&quot;Low&quot;</td><td>0</td></tr><tr><td>10392</td><td>1</td><td>&quot;high&quot;</td><td>&quot;I am not quite sure about my o…</td><td>2</td><td>&quot;Evaluation: The essay presents…</td><td>&quot;medium&quot;</td><td>1</td></tr><tr><td>10445</td><td>3</td><td>&quot;medium&quot;</td><td>&quot;It is often said that young pe…</td><td>1</td><td>&quot;Evaluation: The essay presents…</td><td>&quot;low&quot;</td><td>0</td></tr><tr><td>10535</td><td>7</td><td>&quot;medium&quot;</td><td>&quot;In mordern society, students a…</td><td>1</td><td>&quot;Evaluation: The essay presents…</td><td>&quot;high&quot;</td><td>2</td></tr><tr><td>10769</td><td>1</td><td>&quot;high&quot;</td><td>&quot;I find it productive and rewar…</td><td>2</td><td>&quot;Evaluation: The essay presents…</td><td>&quot;high&quot;</td><td>2</td></tr><tr><td>&hellip;</td><td>&hellip;</td><td>&hellip;</td><td>&hellip;</td><td>&hellip;</td><td>&hellip;</td><td>&hellip;</td><td>&hellip;</td></tr><tr><td>1175383</td><td>2</td><td>&quot;medium&quot;</td><td>&quot;&nbsp;&nbsp;There are heated disscussion…</td><td>1</td><td>&quot;Evaluation: The essay presents…</td><td>&quot;medium&quot;</td><td>1</td></tr><tr><td>1175412</td><td>3</td><td>&quot;high&quot;</td><td>&quot;In my personal opinion young p…</td><td>2</td><td>&quot;Evaluation: The essay presents…</td><td>&quot;medium&quot;</td><td>1</td></tr><tr><td>1175488</td><td>8</td><td>&quot;medium&quot;</td><td>&quot;I believe that people who take…</td><td>1</td><td>&quot;Evaluation: The essay presents…</td><td>&quot;medium&quot;</td><td>1</td></tr><tr><td>1175980</td><td>8</td><td>&quot;low&quot;</td><td>&quot;With the rapid progress of tim…</td><td>0</td><td>&quot;Evaluation: The essay presents…</td><td>&quot;low&quot;</td><td>0</td></tr><tr><td>1176184</td><td>8</td><td>&quot;medium&quot;</td><td>&quot;Taking risks and trying new th…</td><td>1</td><td>&quot;Evaluation: The essay presents…</td><td>&quot;high&quot;</td><td>2</td></tr></tbody></table></div>"
      ],
      "text/plain": [
       "shape: (1_099, 8)\n",
       "┌──────────┬───────────┬──────────────┬──────────────┬───────┬─────────────┬──────────┬────────────┐\n",
       "│ essay_id ┆ essay_set ┆ original_sco ┆ essay        ┆ score ┆ response    ┆ pred_str ┆ pred_score │\n",
       "│ ---      ┆ ---       ┆ re           ┆ ---          ┆ ---   ┆ ---         ┆ ---      ┆ ---        │\n",
       "│ i64      ┆ i64       ┆ ---          ┆ str          ┆ i32   ┆ str         ┆ str      ┆ i32        │\n",
       "│          ┆           ┆ str          ┆              ┆       ┆             ┆          ┆            │\n",
       "╞══════════╪═══════════╪══════════════╪══════════════╪═══════╪═════════════╪══════════╪════════════╡\n",
       "│ 10229    ┆ 8         ┆ low          ┆ I DO NOT     ┆ 0     ┆ Evaluation: ┆ Low      ┆ 0          │\n",
       "│          ┆           ┆              ┆ AGREE WITH   ┆       ┆ The essay   ┆          ┆            │\n",
       "│          ┆           ┆              ┆ THIS STATE…  ┆       ┆ presents…   ┆          ┆            │\n",
       "│ 10392    ┆ 1         ┆ high         ┆ I am not     ┆ 2     ┆ Evaluation: ┆ medium   ┆ 1          │\n",
       "│          ┆           ┆              ┆ quite sure   ┆       ┆ The essay   ┆          ┆            │\n",
       "│          ┆           ┆              ┆ about my o…  ┆       ┆ presents…   ┆          ┆            │\n",
       "│ 10445    ┆ 3         ┆ medium       ┆ It is often  ┆ 1     ┆ Evaluation: ┆ low      ┆ 0          │\n",
       "│          ┆           ┆              ┆ said that    ┆       ┆ The essay   ┆          ┆            │\n",
       "│          ┆           ┆              ┆ young pe…    ┆       ┆ presents…   ┆          ┆            │\n",
       "│ 10535    ┆ 7         ┆ medium       ┆ In mordern   ┆ 1     ┆ Evaluation: ┆ high     ┆ 2          │\n",
       "│          ┆           ┆              ┆ society,     ┆       ┆ The essay   ┆          ┆            │\n",
       "│          ┆           ┆              ┆ students a…  ┆       ┆ presents…   ┆          ┆            │\n",
       "│ 10769    ┆ 1         ┆ high         ┆ I find it    ┆ 2     ┆ Evaluation: ┆ high     ┆ 2          │\n",
       "│          ┆           ┆              ┆ productive   ┆       ┆ The essay   ┆          ┆            │\n",
       "│          ┆           ┆              ┆ and rewar…   ┆       ┆ presents…   ┆          ┆            │\n",
       "│ …        ┆ …         ┆ …            ┆ …            ┆ …     ┆ …           ┆ …        ┆ …          │\n",
       "│ 1175383  ┆ 2         ┆ medium       ┆ There are    ┆ 1     ┆ Evaluation: ┆ medium   ┆ 1          │\n",
       "│          ┆           ┆              ┆ heated       ┆       ┆ The essay   ┆          ┆            │\n",
       "│          ┆           ┆              ┆ disscussion… ┆       ┆ presents…   ┆          ┆            │\n",
       "│ 1175412  ┆ 3         ┆ high         ┆ In my        ┆ 2     ┆ Evaluation: ┆ medium   ┆ 1          │\n",
       "│          ┆           ┆              ┆ personal     ┆       ┆ The essay   ┆          ┆            │\n",
       "│          ┆           ┆              ┆ opinion      ┆       ┆ presents…   ┆          ┆            │\n",
       "│          ┆           ┆              ┆ young p…     ┆       ┆             ┆          ┆            │\n",
       "│ 1175488  ┆ 8         ┆ medium       ┆ I believe    ┆ 1     ┆ Evaluation: ┆ medium   ┆ 1          │\n",
       "│          ┆           ┆              ┆ that people  ┆       ┆ The essay   ┆          ┆            │\n",
       "│          ┆           ┆              ┆ who take…    ┆       ┆ presents…   ┆          ┆            │\n",
       "│ 1175980  ┆ 8         ┆ low          ┆ With the     ┆ 0     ┆ Evaluation: ┆ low      ┆ 0          │\n",
       "│          ┆           ┆              ┆ rapid        ┆       ┆ The essay   ┆          ┆            │\n",
       "│          ┆           ┆              ┆ progress of  ┆       ┆ presents…   ┆          ┆            │\n",
       "│          ┆           ┆              ┆ tim…         ┆       ┆             ┆          ┆            │\n",
       "│ 1176184  ┆ 8         ┆ medium       ┆ Taking risks ┆ 1     ┆ Evaluation: ┆ high     ┆ 2          │\n",
       "│          ┆           ┆              ┆ and trying   ┆       ┆ The essay   ┆          ┆            │\n",
       "│          ┆           ┆              ┆ new th…      ┆       ┆ presents…   ┆          ┆            │\n",
       "└──────────┴───────────┴──────────────┴──────────────┴───────┴─────────────┴──────────┴────────────┘"
      ]
     },
     "execution_count": 49,
     "metadata": {},
     "output_type": "execute_result"
    }
   ],
   "source": [
    "for_evaluation = df.join(results, on=['essay_set', 'essay_id'])\n",
    "for_evaluation"
   ]
  },
  {
   "cell_type": "code",
   "execution_count": 50,
   "metadata": {},
   "outputs": [
    {
     "data": {
      "text/html": [
       "<div><style>\n",
       ".dataframe > thead > tr,\n",
       ".dataframe > tbody > tr {\n",
       "  text-align: right;\n",
       "  white-space: pre-wrap;\n",
       "}\n",
       "</style>\n",
       "<small>shape: (1_099, 8)</small><table border=\"1\" class=\"dataframe\"><thead><tr><th>essay_id</th><th>essay_set</th><th>original_score</th><th>essay</th><th>score</th><th>response</th><th>pred_str</th><th>pred_score</th></tr><tr><td>i64</td><td>i64</td><td>str</td><td>str</td><td>i32</td><td>str</td><td>str</td><td>i32</td></tr></thead><tbody><tr><td>10229</td><td>8</td><td>&quot;low&quot;</td><td>&quot;I DO NOT AGREE WITH THIS STATE…</td><td>0</td><td>&quot;Evaluation: The essay presents…</td><td>&quot;Low&quot;</td><td>0</td></tr><tr><td>10392</td><td>1</td><td>&quot;high&quot;</td><td>&quot;I am not quite sure about my o…</td><td>2</td><td>&quot;Evaluation: The essay presents…</td><td>&quot;medium&quot;</td><td>1</td></tr><tr><td>10445</td><td>3</td><td>&quot;medium&quot;</td><td>&quot;It is often said that young pe…</td><td>1</td><td>&quot;Evaluation: The essay presents…</td><td>&quot;low&quot;</td><td>0</td></tr><tr><td>10535</td><td>7</td><td>&quot;medium&quot;</td><td>&quot;In mordern society, students a…</td><td>1</td><td>&quot;Evaluation: The essay presents…</td><td>&quot;high&quot;</td><td>2</td></tr><tr><td>10769</td><td>1</td><td>&quot;high&quot;</td><td>&quot;I find it productive and rewar…</td><td>2</td><td>&quot;Evaluation: The essay presents…</td><td>&quot;high&quot;</td><td>2</td></tr><tr><td>&hellip;</td><td>&hellip;</td><td>&hellip;</td><td>&hellip;</td><td>&hellip;</td><td>&hellip;</td><td>&hellip;</td><td>&hellip;</td></tr><tr><td>1175383</td><td>2</td><td>&quot;medium&quot;</td><td>&quot;&nbsp;&nbsp;There are heated disscussion…</td><td>1</td><td>&quot;Evaluation: The essay presents…</td><td>&quot;medium&quot;</td><td>1</td></tr><tr><td>1175412</td><td>3</td><td>&quot;high&quot;</td><td>&quot;In my personal opinion young p…</td><td>2</td><td>&quot;Evaluation: The essay presents…</td><td>&quot;medium&quot;</td><td>1</td></tr><tr><td>1175488</td><td>8</td><td>&quot;medium&quot;</td><td>&quot;I believe that people who take…</td><td>1</td><td>&quot;Evaluation: The essay presents…</td><td>&quot;medium&quot;</td><td>1</td></tr><tr><td>1175980</td><td>8</td><td>&quot;low&quot;</td><td>&quot;With the rapid progress of tim…</td><td>0</td><td>&quot;Evaluation: The essay presents…</td><td>&quot;low&quot;</td><td>0</td></tr><tr><td>1176184</td><td>8</td><td>&quot;medium&quot;</td><td>&quot;Taking risks and trying new th…</td><td>1</td><td>&quot;Evaluation: The essay presents…</td><td>&quot;high&quot;</td><td>2</td></tr></tbody></table></div>"
      ],
      "text/plain": [
       "shape: (1_099, 8)\n",
       "┌──────────┬───────────┬──────────────┬──────────────┬───────┬─────────────┬──────────┬────────────┐\n",
       "│ essay_id ┆ essay_set ┆ original_sco ┆ essay        ┆ score ┆ response    ┆ pred_str ┆ pred_score │\n",
       "│ ---      ┆ ---       ┆ re           ┆ ---          ┆ ---   ┆ ---         ┆ ---      ┆ ---        │\n",
       "│ i64      ┆ i64       ┆ ---          ┆ str          ┆ i32   ┆ str         ┆ str      ┆ i32        │\n",
       "│          ┆           ┆ str          ┆              ┆       ┆             ┆          ┆            │\n",
       "╞══════════╪═══════════╪══════════════╪══════════════╪═══════╪═════════════╪══════════╪════════════╡\n",
       "│ 10229    ┆ 8         ┆ low          ┆ I DO NOT     ┆ 0     ┆ Evaluation: ┆ Low      ┆ 0          │\n",
       "│          ┆           ┆              ┆ AGREE WITH   ┆       ┆ The essay   ┆          ┆            │\n",
       "│          ┆           ┆              ┆ THIS STATE…  ┆       ┆ presents…   ┆          ┆            │\n",
       "│ 10392    ┆ 1         ┆ high         ┆ I am not     ┆ 2     ┆ Evaluation: ┆ medium   ┆ 1          │\n",
       "│          ┆           ┆              ┆ quite sure   ┆       ┆ The essay   ┆          ┆            │\n",
       "│          ┆           ┆              ┆ about my o…  ┆       ┆ presents…   ┆          ┆            │\n",
       "│ 10445    ┆ 3         ┆ medium       ┆ It is often  ┆ 1     ┆ Evaluation: ┆ low      ┆ 0          │\n",
       "│          ┆           ┆              ┆ said that    ┆       ┆ The essay   ┆          ┆            │\n",
       "│          ┆           ┆              ┆ young pe…    ┆       ┆ presents…   ┆          ┆            │\n",
       "│ 10535    ┆ 7         ┆ medium       ┆ In mordern   ┆ 1     ┆ Evaluation: ┆ high     ┆ 2          │\n",
       "│          ┆           ┆              ┆ society,     ┆       ┆ The essay   ┆          ┆            │\n",
       "│          ┆           ┆              ┆ students a…  ┆       ┆ presents…   ┆          ┆            │\n",
       "│ 10769    ┆ 1         ┆ high         ┆ I find it    ┆ 2     ┆ Evaluation: ┆ high     ┆ 2          │\n",
       "│          ┆           ┆              ┆ productive   ┆       ┆ The essay   ┆          ┆            │\n",
       "│          ┆           ┆              ┆ and rewar…   ┆       ┆ presents…   ┆          ┆            │\n",
       "│ …        ┆ …         ┆ …            ┆ …            ┆ …     ┆ …           ┆ …        ┆ …          │\n",
       "│ 1175383  ┆ 2         ┆ medium       ┆ There are    ┆ 1     ┆ Evaluation: ┆ medium   ┆ 1          │\n",
       "│          ┆           ┆              ┆ heated       ┆       ┆ The essay   ┆          ┆            │\n",
       "│          ┆           ┆              ┆ disscussion… ┆       ┆ presents…   ┆          ┆            │\n",
       "│ 1175412  ┆ 3         ┆ high         ┆ In my        ┆ 2     ┆ Evaluation: ┆ medium   ┆ 1          │\n",
       "│          ┆           ┆              ┆ personal     ┆       ┆ The essay   ┆          ┆            │\n",
       "│          ┆           ┆              ┆ opinion      ┆       ┆ presents…   ┆          ┆            │\n",
       "│          ┆           ┆              ┆ young p…     ┆       ┆             ┆          ┆            │\n",
       "│ 1175488  ┆ 8         ┆ medium       ┆ I believe    ┆ 1     ┆ Evaluation: ┆ medium   ┆ 1          │\n",
       "│          ┆           ┆              ┆ that people  ┆       ┆ The essay   ┆          ┆            │\n",
       "│          ┆           ┆              ┆ who take…    ┆       ┆ presents…   ┆          ┆            │\n",
       "│ 1175980  ┆ 8         ┆ low          ┆ With the     ┆ 0     ┆ Evaluation: ┆ low      ┆ 0          │\n",
       "│          ┆           ┆              ┆ rapid        ┆       ┆ The essay   ┆          ┆            │\n",
       "│          ┆           ┆              ┆ progress of  ┆       ┆ presents…   ┆          ┆            │\n",
       "│          ┆           ┆              ┆ tim…         ┆       ┆             ┆          ┆            │\n",
       "│ 1176184  ┆ 8         ┆ medium       ┆ Taking risks ┆ 1     ┆ Evaluation: ┆ high     ┆ 2          │\n",
       "│          ┆           ┆              ┆ and trying   ┆       ┆ The essay   ┆          ┆            │\n",
       "│          ┆           ┆              ┆ new th…      ┆       ┆ presents…   ┆          ┆            │\n",
       "└──────────┴───────────┴──────────────┴──────────────┴───────┴─────────────┴──────────┴────────────┘"
      ]
     },
     "execution_count": 50,
     "metadata": {},
     "output_type": "execute_result"
    }
   ],
   "source": [
    "for_evaluation = for_evaluation.filter(pl.col(\"pred_score\") != -1)\n",
    "for_evaluation"
   ]
  },
  {
   "cell_type": "code",
   "execution_count": 51,
   "metadata": {},
   "outputs": [
    {
     "name": "stdout",
     "output_type": "stream",
     "text": [
      "QWK scores by essay set:\n",
      "shape: (8, 2)\n",
      "┌───────────┬──────────┐\n",
      "│ essay_set ┆ qwk      │\n",
      "│ ---       ┆ ---      │\n",
      "│ i64       ┆ f64      │\n",
      "╞═══════════╪══════════╡\n",
      "│ 1         ┆ 0.234668 │\n",
      "│ 2         ┆ 0.127877 │\n",
      "│ 3         ┆ 0.174229 │\n",
      "│ 4         ┆ 0.105615 │\n",
      "│ 5         ┆ 0.050473 │\n",
      "│ 6         ┆ 0.045932 │\n",
      "│ 7         ┆ 0.106004 │\n",
      "│ 8         ┆ 0.22212  │\n",
      "└───────────┴──────────┘\n",
      "スピアマンの順位相関係数 by essay set:\n",
      "shape: (8, 2)\n",
      "┌───────────┬───────────────┐\n",
      "│ essay_set ┆ spearman_corr │\n",
      "│ ---       ┆ ---           │\n",
      "│ i64       ┆ f64           │\n",
      "╞═══════════╪═══════════════╡\n",
      "│ 1         ┆ 0.271581      │\n",
      "│ 2         ┆ 0.126347      │\n",
      "│ 3         ┆ 0.185191      │\n",
      "│ 4         ┆ 0.144957      │\n",
      "│ 5         ┆ 0.029982      │\n",
      "│ 6         ┆ 0.042369      │\n",
      "│ 7         ┆ 0.140897      │\n",
      "│ 8         ┆ 0.241386      │\n",
      "└───────────┴───────────────┘\n"
     ]
    }
   ],
   "source": [
    "from scipy.stats import spearmanr\n",
    "# essay_setごとにQWKとスピアマンの順位相関係数を計算\n",
    "qwk_scores = []\n",
    "spearman_scores = []\n",
    "for essay_set in for_evaluation['essay_set'].unique():\n",
    "    subset = for_evaluation.filter(pl.col('essay_set') == essay_set)\n",
    "    min_score, max_score = get_score_range(TASK, essay_set)\n",
    "    qwk = cohen_kappa_score(\n",
    "        subset['score'].to_numpy(),\n",
    "        subset['pred_score'].to_numpy(),\n",
    "        weights='quadratic',\n",
    "        labels=[i for i in range(min_score, max_score + 1)]\n",
    "    )\n",
    "    spearman_corr, _ = spearmanr(subset['score'].to_numpy(), subset['pred_score'].to_numpy())\n",
    "    qwk_scores.append({\n",
    "        'essay_set': essay_set,\n",
    "        'qwk': qwk\n",
    "    })\n",
    "    spearman_scores.append({\n",
    "        'essay_set': essay_set,\n",
    "        'spearman_corr': spearman_corr\n",
    "    })\n",
    "\n",
    "qwk_df = pl.DataFrame(qwk_scores)\n",
    "spearman_df = pl.DataFrame(spearman_scores)\n",
    "print(\"QWK scores by essay set:\")\n",
    "print(qwk_df)\n",
    "print(\"スピアマンの順位相関係数 by essay set:\")\n",
    "print(spearman_df)"
   ]
  },
  {
   "cell_type": "code",
   "execution_count": 52,
   "metadata": {},
   "outputs": [
    {
     "name": "stdout",
     "output_type": "stream",
     "text": [
      "QWK mean: 0.133\n",
      "スピアマンの順位相関係数 mean: 0.148\n"
     ]
    }
   ],
   "source": [
    "print(f\"QWK mean: {qwk_df['qwk'].mean():.3f}\")\n",
    "print(f\"スピアマンの順位相関係数 mean: {spearman_df['spearman_corr'].mean():.3f}\")"
   ]
  },
  {
   "cell_type": "code",
   "execution_count": null,
   "metadata": {},
   "outputs": [],
   "source": []
  }
 ],
 "metadata": {
  "language_info": {
   "name": "python"
  }
 },
 "nbformat": 4,
 "nbformat_minor": 2
}
