{
 "cells": [
  {
   "cell_type": "code",
   "execution_count": 8,
   "metadata": {},
   "outputs": [],
   "source": [
    "import os\n",
    "import torch\n",
    "from transformers import AutoModelForCausalLM, AutoTokenizer\n",
    "from typing import List, Tuple, Literal"
   ]
  },
  {
   "cell_type": "code",
   "execution_count": 11,
   "metadata": {},
   "outputs": [],
   "source": [
    "def generate_scoring_criteria(\n",
    "    dataset_type: Literal[\"ASAP\", \"TOEFL11\"],\n",
    "    prompt: str,\n",
    "    rubric_guidelines: str,\n",
    "    model_name=\"gpt-4o-mini\",\n",
    "    excerpt=None,\n",
    "    trait=None\n",
    ") -> str:\n",
    "    \"\"\"ChatGPTを使って採点基準を生成 (論文中の Figure 2).\"\"\"\n",
    "    \n",
    "    user_prompt = \"\"\n",
    "    if \"ASAP\" == dataset_type:\n",
    "        if excerpt:\n",
    "            user_prompt = f\"\"\"\n",
    "            [Excerpt]\n",
    "            {excerpt}\n",
    "            (end of [Excerpt])\n",
    "            [Prompt]\n",
    "            {prompt}\n",
    "            (end of [Prompt])\n",
    "            [Rubric Guidelines]\n",
    "            {rubric_guidelines}\n",
    "            (end of [Rubric Guidelines])\n",
    "            Refer to the provided [Prompt] and [Rubric Guidelines] to generate an essay scoring rubric divided into four primary dimensions of writing quality. Adhere to the requirements of [Prompt] and [Rubric Guidelines] when you determine the four dimensions of writing quality. At each dimension, make sure a brief description of the dimension is added before the scoring criteria. The score scale of each dimension ranges from 0 to 10, and the total score is 40.\n",
    "            \"\"\"\n",
    "        else:\n",
    "            user_prompt = f\"\"\"\n",
    "            [Prompt]\n",
    "            {prompt}\n",
    "            (end of [Prompt])\n",
    "            [Rubric Guidelines]\n",
    "            {rubric_guidelines}\n",
    "            (end of [Rubric Guidelines])\n",
    "            Refer to the provided [Prompt] and [Rubric Guidelines] to generate an essay scoring rubric divided into four primary dimensions of writing quality. Adhere to the requirements of [Prompt] and [Rubric Guidelines] when you determine the four dimensions of writing quality. At each dimension, make sure a brief description of the dimension is added before the scoring criteria. The score scale of each dimension ranges from 0 to 10, and the total score is 40.\n",
    "            \"\"\"\n",
    "    elif \"TOEFL11\" == dataset_type and trait:\n",
    "        user_prompt = f\"\"\"\n",
    "        [Scoring Rubric]\n",
    "        {rubric_guidelines}\n",
    "        (end of [Scoring Rubric])\n",
    "        Refer to [Scoring Rubric] to generate a scoring criteria with score ranging from 0 to 10, following the instruction below:\n",
    "        1. Briefly describe '{trait}' with one sentence.\n",
    "        2. Divide the score range [0-10] into 5 appropriate intervals.\n",
    "        3. For each interval, summarize its characteristics.\n",
    "        \"\"\"\n",
    "\n",
    "    if \"gpt\" in model_name:\n",
    "        import openai\n",
    "        client = openai.Client(api_key=os.getenv(\"OPENAI_API_KEY\"))\n",
    "        response = client.chat.completions.create(\n",
    "            model=model_name,\n",
    "            messages=[\n",
    "                {\"role\": \"user\", \"content\": user_prompt},\n",
    "            ],\n",
    "            temperature=0.1,\n",
    "            max_tokens=2048,\n",
    "        )\n",
    "        generated_criteria = response.choices[0].message.content\n",
    "        return generated_criteria\n",
    "    else:\n",
    "        model = AutoModelForCausalLM.from_pretrained(model_name, torch_dtype=torch.bfloat16, device_map=\"auto\")\n",
    "        tokenizer = AutoTokenizer.from_pretrained(model_name)\n",
    "        inputs = tokenizer(user_prompt, return_tensors=\"pt\").to(\"cuda\")\n",
    "        with torch.no_grad():\n",
    "            outputs = model.generate(**inputs, max_new_tokens=2048, temperature=0.1, repetition_penalty=1.1, do_sample=True)\n",
    "            generated_criteria = tokenizer.decode(outputs[0], skip_special_tokens=True)\n",
    "            return generated_criteria"
   ]
  },
  {
   "cell_type": "code",
   "execution_count": 12,
   "metadata": {},
   "outputs": [],
   "source": [
    "# ASAP\n",
    "for i in range(1, 9):\n",
    "    with open(f\"llm_prompts/ASAP/info/prompt{i}.md\", \"r\") as f:\n",
    "        prompt = f.read()\n",
    "    with open(f\"llm_prompts/ASAP/info/rubric{i}.md\", \"r\") as f:\n",
    "        rubric = f.read()\n",
    "    if i in [3, 4, 5, 6]:\n",
    "        with open(f\"llm_prompts/ASAP/info/source{i}.md\", \"r\") as f:\n",
    "            excerpt = f.read()\n",
    "    else:\n",
    "        excerpt = None\n",
    "    \n",
    "    scoring_criteria = generate_scoring_criteria(\"ASAP\", prompt, rubric, excerpt=excerpt)\n",
    "    with open(f\"outputs/multi-trait-decomposition/asap_prompt{i}.txt\", \"w\") as f:\n",
    "        f.write(scoring_criteria)"
   ]
  },
  {
   "cell_type": "code",
   "execution_count": 14,
   "metadata": {},
   "outputs": [
    {
     "ename": "FileNotFoundError",
     "evalue": "[Errno 2] No such file or directory: 'llm_prompts/TOEFL11/info/prompt9.md'",
     "output_type": "error",
     "traceback": [
      "\u001b[0;31m---------------------------------------------------------------------------\u001b[0m",
      "\u001b[0;31mFileNotFoundError\u001b[0m                         Traceback (most recent call last)",
      "Cell \u001b[0;32mIn[14], line 3\u001b[0m\n\u001b[1;32m      1\u001b[0m \u001b[38;5;66;03m# TOEFL11\u001b[39;00m\n\u001b[1;32m      2\u001b[0m \u001b[38;5;28;01mfor\u001b[39;00m i \u001b[38;5;129;01min\u001b[39;00m \u001b[38;5;28mrange\u001b[39m(\u001b[38;5;241m1\u001b[39m, \u001b[38;5;241m11\u001b[39m):\n\u001b[0;32m----> 3\u001b[0m     \u001b[38;5;28;01mwith\u001b[39;00m \u001b[38;5;28;43mopen\u001b[39;49m\u001b[43m(\u001b[49m\u001b[38;5;124;43mf\u001b[39;49m\u001b[38;5;124;43m\"\u001b[39;49m\u001b[38;5;124;43mllm_prompts/TOEFL11/info/prompt\u001b[39;49m\u001b[38;5;132;43;01m{\u001b[39;49;00m\u001b[43mi\u001b[49m\u001b[38;5;132;43;01m}\u001b[39;49;00m\u001b[38;5;124;43m.md\u001b[39;49m\u001b[38;5;124;43m\"\u001b[39;49m\u001b[43m,\u001b[49m\u001b[43m \u001b[49m\u001b[38;5;124;43m\"\u001b[39;49m\u001b[38;5;124;43mr\u001b[39;49m\u001b[38;5;124;43m\"\u001b[39;49m\u001b[43m)\u001b[49m \u001b[38;5;28;01mas\u001b[39;00m f:\n\u001b[1;32m      4\u001b[0m         prompt \u001b[38;5;241m=\u001b[39m f\u001b[38;5;241m.\u001b[39mread()\n\u001b[1;32m      5\u001b[0m     \u001b[38;5;28;01mfor\u001b[39;00m j, trait \u001b[38;5;129;01min\u001b[39;00m \u001b[38;5;28menumerate\u001b[39m([\u001b[38;5;124m\"\u001b[39m\u001b[38;5;124mTask Response\u001b[39m\u001b[38;5;124m\"\u001b[39m, \u001b[38;5;124m\"\u001b[39m\u001b[38;5;124mCoherence and Cohesion\u001b[39m\u001b[38;5;124m\"\u001b[39m, \u001b[38;5;124m\"\u001b[39m\u001b[38;5;124mLexical Resource\u001b[39m\u001b[38;5;124m\"\u001b[39m, \u001b[38;5;124m\"\u001b[39m\u001b[38;5;124mGrammatical Range and Accuracy\u001b[39m\u001b[38;5;124m\"\u001b[39m]):\n",
      "File \u001b[0;32m~/Documents/project/multi-trait-specification/.venv/lib/python3.10/site-packages/IPython/core/interactiveshell.py:324\u001b[0m, in \u001b[0;36m_modified_open\u001b[0;34m(file, *args, **kwargs)\u001b[0m\n\u001b[1;32m    317\u001b[0m \u001b[38;5;28;01mif\u001b[39;00m file \u001b[38;5;129;01min\u001b[39;00m {\u001b[38;5;241m0\u001b[39m, \u001b[38;5;241m1\u001b[39m, \u001b[38;5;241m2\u001b[39m}:\n\u001b[1;32m    318\u001b[0m     \u001b[38;5;28;01mraise\u001b[39;00m \u001b[38;5;167;01mValueError\u001b[39;00m(\n\u001b[1;32m    319\u001b[0m         \u001b[38;5;124mf\u001b[39m\u001b[38;5;124m\"\u001b[39m\u001b[38;5;124mIPython won\u001b[39m\u001b[38;5;124m'\u001b[39m\u001b[38;5;124mt let you open fd=\u001b[39m\u001b[38;5;132;01m{\u001b[39;00mfile\u001b[38;5;132;01m}\u001b[39;00m\u001b[38;5;124m by default \u001b[39m\u001b[38;5;124m\"\u001b[39m\n\u001b[1;32m    320\u001b[0m         \u001b[38;5;124m\"\u001b[39m\u001b[38;5;124mas it is likely to crash IPython. If you know what you are doing, \u001b[39m\u001b[38;5;124m\"\u001b[39m\n\u001b[1;32m    321\u001b[0m         \u001b[38;5;124m\"\u001b[39m\u001b[38;5;124myou can use builtins\u001b[39m\u001b[38;5;124m'\u001b[39m\u001b[38;5;124m open.\u001b[39m\u001b[38;5;124m\"\u001b[39m\n\u001b[1;32m    322\u001b[0m     )\n\u001b[0;32m--> 324\u001b[0m \u001b[38;5;28;01mreturn\u001b[39;00m \u001b[43mio_open\u001b[49m\u001b[43m(\u001b[49m\u001b[43mfile\u001b[49m\u001b[43m,\u001b[49m\u001b[43m \u001b[49m\u001b[38;5;241;43m*\u001b[39;49m\u001b[43margs\u001b[49m\u001b[43m,\u001b[49m\u001b[43m \u001b[49m\u001b[38;5;241;43m*\u001b[39;49m\u001b[38;5;241;43m*\u001b[39;49m\u001b[43mkwargs\u001b[49m\u001b[43m)\u001b[49m\n",
      "\u001b[0;31mFileNotFoundError\u001b[0m: [Errno 2] No such file or directory: 'llm_prompts/TOEFL11/info/prompt9.md'"
     ]
    }
   ],
   "source": [
    "# TOEFL11\n",
    "for i in range(1, 11):\n",
    "    with open(f\"llm_prompts/TOEFL11/info/prompt{i}.md\", \"r\") as f:\n",
    "        prompt = f.read()\n",
    "    for j, trait in enumerate([\"Task Response\", \"Coherence and Cohesion\", \"Lexical Resource\", \"Grammatical Range and Accuracy\"]):\n",
    "        with open(f\"llm_prompts/TOEFL11/info/rubric_trait{j+1}.md\", \"r\") as f:\n",
    "            rubric = f.read()\n",
    "        scoring_criteria = generate_scoring_criteria(\"TOEFL11\", prompt, rubric, trait=trait)\n",
    "        with open(f\"outputs/multi-trait-decomposition/toefl11_prompt{i}_{j+1}.txt\", \"w\") as f:\n",
    "            f.write(scoring_criteria)"
   ]
  },
  {
   "cell_type": "code",
   "execution_count": null,
   "metadata": {},
   "outputs": [],
   "source": []
  }
 ],
 "metadata": {
  "kernelspec": {
   "display_name": ".venv",
   "language": "python",
   "name": "python3"
  },
  "language_info": {
   "codemirror_mode": {
    "name": "ipython",
    "version": 3
   },
   "file_extension": ".py",
   "mimetype": "text/x-python",
   "name": "python",
   "nbconvert_exporter": "python",
   "pygments_lexer": "ipython3",
   "version": "3.10.0"
  }
 },
 "nbformat": 4,
 "nbformat_minor": 2
}
