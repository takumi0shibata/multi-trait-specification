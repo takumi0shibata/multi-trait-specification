{
 "cells": [
  {
   "cell_type": "code",
   "execution_count": 2,
   "metadata": {},
   "outputs": [
    {
     "data": {
      "text/plain": [
       "True"
      ]
     },
     "execution_count": 2,
     "metadata": {},
     "output_type": "execute_result"
    }
   ],
   "source": [
    "import os\n",
    "import torch\n",
    "from transformers import AutoModelForCausalLM, AutoTokenizer\n",
    "import openai\n",
    "from typing import List, Tuple, Literal\n",
    "from dotenv import load_dotenv\n",
    "load_dotenv()"
   ]
  },
  {
   "cell_type": "code",
   "execution_count": 3,
   "metadata": {},
   "outputs": [],
   "source": [
    "def generate_scoring_criteria(\n",
    "    dataset_type: Literal[\"ASAP\", \"TOEFL11\"],\n",
    "    prompt: str,\n",
    "    rubric_guidelines: str,\n",
    "    model_name=\"gpt-4o-mini\",\n",
    "    excerpt=None,\n",
    "    trait=None\n",
    ") -> str:\n",
    "    \"\"\"ChatGPTを使って採点基準を生成 (論文中の Figure 2).\"\"\"\n",
    "    \n",
    "    user_prompt = \"\"\n",
    "    if \"ASAP\" == dataset_type:\n",
    "        if excerpt:\n",
    "            user_prompt = f\"\"\"\n",
    "            [Excerpt]\n",
    "            {excerpt}\n",
    "            (end of [Excerpt])\n",
    "            [Prompt]\n",
    "            {prompt}\n",
    "            (end of [Prompt])\n",
    "            [Rubric Guidelines]\n",
    "            {rubric_guidelines}\n",
    "            (end of [Rubric Guidelines])\n",
    "            Refer to the provided [Prompt] and [Rubric Guidelines] to generate an essay scoring rubric divided into four primary dimensions of writing quality. Adhere to the requirements of [Prompt] and [Rubric Guidelines] when you determine the four dimensions of writing quality. At each dimension, make sure a brief description of the dimension is added before the scoring criteria. The score scale of each dimension ranges from 0 to 10, and the total score is 40.\n",
    "            \"\"\"\n",
    "        else:\n",
    "            user_prompt = f\"\"\"\n",
    "            [Prompt]\n",
    "            {prompt}\n",
    "            (end of [Prompt])\n",
    "            [Rubric Guidelines]\n",
    "            {rubric_guidelines}\n",
    "            (end of [Rubric Guidelines])\n",
    "            Refer to the provided [Prompt] and [Rubric Guidelines] to generate an essay scoring rubric divided into four primary dimensions of writing quality. Adhere to the requirements of [Prompt] and [Rubric Guidelines] when you determine the four dimensions of writing quality. At each dimension, make sure a brief description of the dimension is added before the scoring criteria. The score scale of each dimension ranges from 0 to 10, and the total score is 40.\n",
    "            \"\"\"\n",
    "    elif \"TOEFL11\" == dataset_type and trait:\n",
    "        user_prompt = f\"\"\"\n",
    "        [Scoring Rubric]\n",
    "        {rubric_guidelines}\n",
    "        (end of [Scoring Rubric])\n",
    "        Refer to [Scoring Rubric] to generate a scoring criteria with score ranging from 0 to 10, following the instruction below:\n",
    "        1. Briefly describe '{trait}' with one sentence.\n",
    "        2. Divide the score range [0-10] into 5 appropriate intervals.\n",
    "        3. For each interval, summarize its characteristics.\n",
    "        \"\"\"\n",
    "\n",
    "    if \"gpt\" in model_name:\n",
    "        import openai\n",
    "        client = openai.Client(api_key=os.getenv(\"OPENAI_API_KEY\"))\n",
    "        response = client.chat.completions.create(\n",
    "            model=model_name,\n",
    "            messages=[\n",
    "                {\"role\": \"user\", \"content\": user_prompt},\n",
    "            ],\n",
    "            temperature=0.1,\n",
    "            max_tokens=2048,\n",
    "        )\n",
    "        generated_criteria = response.choices[0].message.content\n",
    "        return generated_criteria\n",
    "    else:\n",
    "        model = AutoModelForCausalLM.from_pretrained(model_name, torch_dtype=torch.bfloat16, device_map=\"auto\")\n",
    "        tokenizer = AutoTokenizer.from_pretrained(model_name)\n",
    "        inputs = tokenizer(user_prompt, return_tensors=\"pt\").to(\"cuda\")\n",
    "        with torch.no_grad():\n",
    "            outputs = model.generate(**inputs, max_new_tokens=2048, temperature=0.1, repetition_penalty=1.1, do_sample=True)\n",
    "            generated_criteria = tokenizer.decode(outputs[0], skip_special_tokens=True)\n",
    "            return generated_criteria"
   ]
  },
  {
   "cell_type": "code",
   "execution_count": 8,
   "metadata": {},
   "outputs": [],
   "source": [
    "# ASAP\n",
    "for i in range(1, 9):\n",
    "    with open(f\"llm_prompts/ASAP/info/prompt{i}.md\", \"r\") as f:\n",
    "        prompt = f.read()\n",
    "    with open(f\"llm_prompts/ASAP/info/rubric{i}.md\", \"r\") as f:\n",
    "        rubric = f.read()\n",
    "    if i in [3, 4, 5, 6]:\n",
    "        with open(f\"llm_prompts/ASAP/info/source{i}.md\", \"r\") as f:\n",
    "            excerpt = f.read()\n",
    "    else:\n",
    "        excerpt = None\n",
    "    \n",
    "    scoring_criteria = generate_scoring_criteria(\"ASAP\", prompt, rubric, excerpt=excerpt, model_name=\"gpt-4o\")\n",
    "    with open(f\"outputs/multi-trait-decomposition/asap_prompt{i}.txt\", \"w\") as f:\n",
    "        f.write(scoring_criteria)"
   ]
  },
  {
   "cell_type": "code",
   "execution_count": 4,
   "metadata": {},
   "outputs": [],
   "source": [
    "# TOEFL11\n",
    "for i in range(7, 9):\n",
    "    with open(f\"llm_prompts/TOEFL11/info/prompt{i}.md\", \"r\") as f:\n",
    "        prompt = f.read()\n",
    "    for j, trait in enumerate([\"Task Response\", \"Coherence and Cohesion\", \"Lexical Resource\", \"Grammatical Range and Accuracy\"]):\n",
    "        with open(f\"llm_prompts/TOEFL11/info/rubric_trait{j+1}.md\", \"r\") as f:\n",
    "            rubric = f.read()\n",
    "        scoring_criteria = generate_scoring_criteria(\"TOEFL11\", prompt, rubric, trait=trait)\n",
    "        with open(f\"outputs/multi-trait-decomposition/toefl11_prompt{i}_{j+1}.txt\", \"w\") as f:\n",
    "            f.write(scoring_criteria)"
   ]
  },
  {
   "cell_type": "code",
   "execution_count": null,
   "metadata": {},
   "outputs": [],
   "source": []
  }
 ],
 "metadata": {
  "kernelspec": {
   "display_name": ".venv",
   "language": "python",
   "name": "python3"
  },
  "language_info": {
   "codemirror_mode": {
    "name": "ipython",
    "version": 3
   },
   "file_extension": ".py",
   "mimetype": "text/x-python",
   "name": "python",
   "nbconvert_exporter": "python",
   "pygments_lexer": "ipython3",
   "version": "3.10.0"
  }
 },
 "nbformat": 4,
 "nbformat_minor": 2
}
