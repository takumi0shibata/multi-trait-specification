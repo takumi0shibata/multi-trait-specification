{
 "cells": [
  {
   "cell_type": "code",
   "execution_count": 6,
   "metadata": {},
   "outputs": [],
   "source": [
    "import json\n",
    "import polars as pl"
   ]
  },
  {
   "cell_type": "markdown",
   "metadata": {},
   "source": [
    "# BERT"
   ]
  },
  {
   "cell_type": "code",
   "execution_count": 4,
   "metadata": {},
   "outputs": [],
   "source": [
    "qwks = []\n",
    "for i in range(1, 9):\n",
    "    with open(f'./prompt{i}.json', 'r') as file:\n",
    "        data = json.load(file)\n",
    "    qwks.append(data['eval_qwk'])"
   ]
  },
  {
   "cell_type": "code",
   "execution_count": 8,
   "metadata": {},
   "outputs": [
    {
     "data": {
      "text/html": [
       "<div><style>\n",
       ".dataframe > thead > tr,\n",
       ".dataframe > tbody > tr {\n",
       "  text-align: right;\n",
       "  white-space: pre-wrap;\n",
       "}\n",
       "</style>\n",
       "<small>shape: (1, 2)</small><table border=\"1\" class=\"dataframe\"><thead><tr><th>Prompt</th><th>QWK</th></tr><tr><td>f64</td><td>f64</td></tr></thead><tbody><tr><td>4.5</td><td>0.740103</td></tr></tbody></table></div>"
      ],
      "text/plain": [
       "shape: (1, 2)\n",
       "┌────────┬──────────┐\n",
       "│ Prompt ┆ QWK      │\n",
       "│ ---    ┆ ---      │\n",
       "│ f64    ┆ f64      │\n",
       "╞════════╪══════════╡\n",
       "│ 4.5    ┆ 0.740103 │\n",
       "└────────┴──────────┘"
      ]
     },
     "execution_count": 8,
     "metadata": {},
     "output_type": "execute_result"
    }
   ],
   "source": [
    "pl.DataFrame({\n",
    "    'Prompt': list(range(1, 9)),\n",
    "    'QWK': qwks\n",
    "}).mean()"
   ]
  },
  {
   "cell_type": "markdown",
   "metadata": {},
   "source": [
    "# roberta"
   ]
  },
  {
   "cell_type": "code",
   "execution_count": 9,
   "metadata": {},
   "outputs": [],
   "source": [
    "qwks = []\n",
    "for i in range(1, 9):\n",
    "    with open(f'./roberta-base_prompt{i}.json', 'r') as file:\n",
    "        data = json.load(file)\n",
    "    qwks.append(data['eval_qwk'])"
   ]
  },
  {
   "cell_type": "code",
   "execution_count": 12,
   "metadata": {},
   "outputs": [
    {
     "data": {
      "text/html": [
       "<div><style>\n",
       ".dataframe > thead > tr,\n",
       ".dataframe > tbody > tr {\n",
       "  text-align: right;\n",
       "  white-space: pre-wrap;\n",
       "}\n",
       "</style>\n",
       "<small>shape: (1, 2)</small><table border=\"1\" class=\"dataframe\"><thead><tr><th>Prompt</th><th>QWK</th></tr><tr><td>f64</td><td>f64</td></tr></thead><tbody><tr><td>4.5</td><td>0.742973</td></tr></tbody></table></div>"
      ],
      "text/plain": [
       "shape: (1, 2)\n",
       "┌────────┬──────────┐\n",
       "│ Prompt ┆ QWK      │\n",
       "│ ---    ┆ ---      │\n",
       "│ f64    ┆ f64      │\n",
       "╞════════╪══════════╡\n",
       "│ 4.5    ┆ 0.742973 │\n",
       "└────────┴──────────┘"
      ]
     },
     "execution_count": 12,
     "metadata": {},
     "output_type": "execute_result"
    }
   ],
   "source": [
    "pl.DataFrame({\n",
    "    'Prompt': list(range(1, 9)),\n",
    "    'QWK': qwks\n",
    "}).mean()"
   ]
  },
  {
   "cell_type": "code",
   "execution_count": null,
   "metadata": {},
   "outputs": [],
   "source": []
  }
 ],
 "metadata": {
  "language_info": {
   "name": "python"
  }
 },
 "nbformat": 4,
 "nbformat_minor": 2
}
